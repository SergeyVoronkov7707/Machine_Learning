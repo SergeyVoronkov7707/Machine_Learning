{
 "cells": [
  {
   "cell_type": "markdown",
   "id": "representative-navigation",
   "metadata": {},
   "source": [
    "Sno - Серийный номер  \n",
    "ObservationDate - Дата наблюдения в ММ/ДД/ГГГГ  \n",
    "Province/State - Провинция или штат наблюдения (может быть пустым, если отсутствует)  \n",
    "Country/Region - Страна наблюдения  \n",
    "Last Update - время в формате UTC, когда строка обновляется для данной провинции или страны. (Не стандартизирован и поэтому,   пожалуйста, очистите его перед использованием)  \n",
    "Confirmed - Совокупное количество подтвержденных случаев до этой даты  \n",
    "Deaths - Совокупное число смертей до этой даты  \n",
    "Recovered - Совокупное количество восстановленных случаев до этой даты  "
   ]
  },
  {
   "cell_type": "code",
   "execution_count": 34,
   "id": "restricted-amsterdam",
   "metadata": {},
   "outputs": [],
   "source": [
    "import pandas as pd\n",
    "import numpy as np\n",
    "from datetime import datetime as dt\n",
    "import json\n",
    "\n",
    "import dill\n",
    "\n",
    "import matplotlib.pyplot as plt\n",
    "\n",
    "from score import score_\n",
    "\n",
    "import pickle\n",
    "\n",
    "#import missingno as miss\n",
    "\n",
    "import seaborn as sns\n",
    "\n",
    "import math\n",
    "\n",
    "%matplotlib inline"
   ]
  },
  {
   "cell_type": "code",
   "execution_count": 35,
   "id": "clean-detail",
   "metadata": {},
   "outputs": [],
   "source": [
    "from sklearn.linear_model import LogisticRegression, LinearRegression\n",
    "from sklearn.ensemble import GradientBoostingClassifier, GradientBoostingRegressor\n",
    "from catboost import CatBoostClassifier, CatBoostRegressor\n",
    "from lightgbm import LGBMClassifier, LGBMRegressor\n",
    "from sklearn.ensemble import RandomForestClassifier, RandomForestRegressor, VotingRegressor\n",
    "from sklearn.neighbors import KNeighborsClassifier, KNeighborsRegressor\n",
    "from sklearn.model_selection import cross_validate\n",
    "\n",
    "from sklearn.base import BaseEstimator, TransformerMixin\n",
    "from sklearn.preprocessing import StandardScaler, PolynomialFeatures\n",
    "from sklearn.model_selection import train_test_split, GridSearchCV, RandomizedSearchCV\n",
    "from sklearn.pipeline import Pipeline, FeatureUnion\n",
    "from sklearn.metrics import classification_report, f1_score, mean_squared_error, mean_absolute_error, confusion_matrix, r2_score\n",
    "from sklearn.manifold import TSNE\n",
    "\n",
    "from imblearn.over_sampling import SMOTE"
   ]
  },
  {
   "cell_type": "code",
   "execution_count": 36,
   "id": "demanding-sending",
   "metadata": {},
   "outputs": [],
   "source": [
    "# # метрики качества модели\n",
    "# def score_(y, pred):\n",
    "#     print('RMSE : ',  math.sqrt(mean_squared_error(y, pred)))\n",
    "#     print('MAE : ',  mean_absolute_error(y, pred))\n",
    "#     print('R2 : ', r2_score(y, pred) * 100)"
   ]
  },
  {
   "cell_type": "code",
   "execution_count": 37,
   "id": "occupied-lease",
   "metadata": {},
   "outputs": [],
   "source": [
    "# # переводит дату в читаемый для модели формат\n",
    "# def date_(df, target):\n",
    "#     df[target] = df[target].apply(lambda x: str(x).replace('-', '').replace(':', '').replace(' ', ''), 1)\n",
    "#     df[target] = df[target]. astype(np.int64)\n",
    "#     return df"
   ]
  },
  {
   "cell_type": "code",
   "execution_count": 38,
   "id": "working-element",
   "metadata": {},
   "outputs": [],
   "source": [
    "# # фун-ция создает новые признаки\n",
    "# def poly_(df):\n",
    "#     poly = PolynomialFeatures()\n",
    "#     poly = pd.DataFrame(poly.fit_transform(df))\n",
    "# #     poly = poly.rename({1: 'lat', 2: 'long', 3: 'date', 4: 'countryregion', 5: 'deaths', 6: 'recovered', 7: 'active'}, axis=1)\n",
    "#     return poly"
   ]
  },
  {
   "cell_type": "code",
   "execution_count": null,
   "id": "excited-coordination",
   "metadata": {},
   "outputs": [],
   "source": []
  },
  {
   "cell_type": "code",
   "execution_count": 39,
   "id": "bridal-sport",
   "metadata": {},
   "outputs": [],
   "source": [
    "df = pd.read_csv('full_table.csv', index_col=0)"
   ]
  },
  {
   "cell_type": "code",
   "execution_count": 40,
   "id": "promising-casino",
   "metadata": {},
   "outputs": [],
   "source": [
    "with open('country.json') as json_data:\n",
    "    country = json.load(json_data)"
   ]
  },
  {
   "cell_type": "code",
   "execution_count": 41,
   "id": "broadband-showcase",
   "metadata": {},
   "outputs": [],
   "source": [
    "# df = pd.read_csv('df_all.csv', index_col = 0)"
   ]
  },
  {
   "cell_type": "code",
   "execution_count": 42,
   "id": "seeing-gabriel",
   "metadata": {},
   "outputs": [
    {
     "data": {
      "text/html": [
       "<div>\n",
       "<style scoped>\n",
       "    .dataframe tbody tr th:only-of-type {\n",
       "        vertical-align: middle;\n",
       "    }\n",
       "\n",
       "    .dataframe tbody tr th {\n",
       "        vertical-align: top;\n",
       "    }\n",
       "\n",
       "    .dataframe thead th {\n",
       "        text-align: right;\n",
       "    }\n",
       "</style>\n",
       "<table border=\"1\" class=\"dataframe\">\n",
       "  <thead>\n",
       "    <tr style=\"text-align: right;\">\n",
       "      <th></th>\n",
       "      <th>lat</th>\n",
       "      <th>long</th>\n",
       "      <th>date</th>\n",
       "      <th>provincestate</th>\n",
       "      <th>countryregion</th>\n",
       "      <th>confirmed</th>\n",
       "      <th>deaths</th>\n",
       "      <th>recovered</th>\n",
       "      <th>active</th>\n",
       "    </tr>\n",
       "  </thead>\n",
       "  <tbody>\n",
       "    <tr>\n",
       "      <th>0</th>\n",
       "      <td>33.939110</td>\n",
       "      <td>67.709953</td>\n",
       "      <td>2020-01-22</td>\n",
       "      <td>NaN</td>\n",
       "      <td>Afghanistan</td>\n",
       "      <td>0</td>\n",
       "      <td>0</td>\n",
       "      <td>0.0</td>\n",
       "      <td>0.0</td>\n",
       "    </tr>\n",
       "    <tr>\n",
       "      <th>176</th>\n",
       "      <td>4.210484</td>\n",
       "      <td>101.975766</td>\n",
       "      <td>2020-01-22</td>\n",
       "      <td>NaN</td>\n",
       "      <td>Malaysia</td>\n",
       "      <td>0</td>\n",
       "      <td>0</td>\n",
       "      <td>0.0</td>\n",
       "      <td>0.0</td>\n",
       "    </tr>\n",
       "    <tr>\n",
       "      <th>177</th>\n",
       "      <td>3.202800</td>\n",
       "      <td>73.220700</td>\n",
       "      <td>2020-01-22</td>\n",
       "      <td>NaN</td>\n",
       "      <td>Maldives</td>\n",
       "      <td>0</td>\n",
       "      <td>0</td>\n",
       "      <td>0.0</td>\n",
       "      <td>0.0</td>\n",
       "    </tr>\n",
       "  </tbody>\n",
       "</table>\n",
       "</div>"
      ],
      "text/plain": [
       "           lat        long        date provincestate countryregion  confirmed  \\\n",
       "0    33.939110   67.709953  2020-01-22           NaN   Afghanistan          0   \n",
       "176   4.210484  101.975766  2020-01-22           NaN      Malaysia          0   \n",
       "177   3.202800   73.220700  2020-01-22           NaN      Maldives          0   \n",
       "\n",
       "     deaths  recovered  active  \n",
       "0         0        0.0     0.0  \n",
       "176       0        0.0     0.0  \n",
       "177       0        0.0     0.0  "
      ]
     },
     "execution_count": 42,
     "metadata": {},
     "output_type": "execute_result"
    }
   ],
   "source": [
    "df[:3]"
   ]
  },
  {
   "cell_type": "code",
   "execution_count": 43,
   "id": "controversial-throat",
   "metadata": {},
   "outputs": [
    {
     "name": "stdout",
     "output_type": "stream",
     "text": [
      "<class 'pandas.core.frame.DataFrame'>\n",
      "Int64Index: 135356 entries, 0 to 136343\n",
      "Data columns (total 9 columns):\n",
      " #   Column         Non-Null Count   Dtype  \n",
      "---  ------         --------------   -----  \n",
      " 0   lat            135356 non-null  float64\n",
      " 1   long           135356 non-null  float64\n",
      " 2   date           135356 non-null  object \n",
      " 3   provincestate  41496 non-null   object \n",
      " 4   countryregion  135356 non-null  object \n",
      " 5   confirmed      135356 non-null  int64  \n",
      " 6   deaths         135356 non-null  int64  \n",
      " 7   recovered      135356 non-null  float64\n",
      " 8   active         135356 non-null  float64\n",
      "dtypes: float64(4), int64(2), object(3)\n",
      "memory usage: 10.3+ MB\n"
     ]
    }
   ],
   "source": [
    "df.info()"
   ]
  },
  {
   "cell_type": "code",
   "execution_count": 44,
   "id": "polish-representative",
   "metadata": {},
   "outputs": [],
   "source": [
    "target = 'confirmed'\n",
    "RANDOM_STATE = 42\n",
    "\n",
    "del df['provincestate']\n",
    "del df['lat']\n",
    "del df['long']\n",
    "# del df['confirmed']"
   ]
  },
  {
   "cell_type": "code",
   "execution_count": 45,
   "id": "patent-deputy",
   "metadata": {},
   "outputs": [],
   "source": [
    "df['date'] = pd.to_datetime(df['date'])\n",
    "# df = df.sort_values(by= 'countryregion')"
   ]
  },
  {
   "cell_type": "code",
   "execution_count": 46,
   "id": "fossil-fabric",
   "metadata": {},
   "outputs": [],
   "source": [
    "X_train = df[df['date'].dt.year == 2020]\n",
    "X_test = df[df['date'].dt.year == 2021]"
   ]
  },
  {
   "cell_type": "code",
   "execution_count": 47,
   "id": "consolidated-lawsuit",
   "metadata": {},
   "outputs": [],
   "source": [
    "y_train = X_train[target]\n",
    "y_test = X_test[target]\n",
    "X_train = X_train.drop(target,1)\n",
    "X_test = X_test.drop(target,1)\n",
    "\n",
    "X_train.to_csv('X_train.csv')\n",
    "X_test.to_csv('X_test.csv')\n",
    "y_train.to_csv('y_train.csv')\n",
    "y_test.to_csv('y_test.csv')"
   ]
  },
  {
   "cell_type": "code",
   "execution_count": null,
   "id": "liberal-rainbow",
   "metadata": {},
   "outputs": [],
   "source": []
  },
  {
   "cell_type": "code",
   "execution_count": null,
   "id": "together-punishment",
   "metadata": {},
   "outputs": [],
   "source": []
  },
  {
   "cell_type": "code",
   "execution_count": null,
   "id": "certified-motion",
   "metadata": {},
   "outputs": [],
   "source": []
  },
  {
   "cell_type": "code",
   "execution_count": null,
   "id": "medical-bridge",
   "metadata": {},
   "outputs": [],
   "source": []
  },
  {
   "cell_type": "code",
   "execution_count": 48,
   "id": "extensive-yugoslavia",
   "metadata": {},
   "outputs": [],
   "source": [
    "class DateSelector(BaseEstimator, TransformerMixin):\n",
    "\n",
    "    def __init__(self, key):\n",
    "        self.key = key\n",
    "\n",
    "    def fit(self, X, y=None):\n",
    "        #print('date fit')\n",
    "        return self\n",
    " \n",
    "    def transform(self, X):\n",
    "        try:\n",
    "            tran_tab = str.maketrans(dict.fromkeys(list(\"\\n ,|, . a-  # @ ! $ % ^ & * = ] [ \\'  \\\" < > ~  ) ( № ; : ? +  / -\"), \"\"))\n",
    "            X[self.key] = X[self.key].apply(lambda x:  str(x).lower().translate(tran_tab)[:8])\n",
    "    #             X[self.key] = X[self.key].apply(lambda x: str(x).replace('-', '').replace(':', '').replace(' ', ''), 1)\n",
    "            X[self.key] = X[self.key].astype(np.int64)\n",
    "            print('step 1 : OK')\n",
    "    #             return X[self.key].values.reshape((-1,1))\n",
    "            return  X\n",
    "\n",
    "        except:\n",
    "            print('not processed step 1')\n",
    "            return X[self.key].values.reshape((-1,1))    \n",
    "        \n",
    "        \n",
    "        \n",
    "        \n",
    "\n",
    "class FactorizeSelector(BaseEstimator, TransformerMixin):\n",
    "\n",
    "    def __init__(self, key, country):\n",
    "        self.key = key\n",
    "        self.country = country\n",
    "        \n",
    "    def fit(self, X, y=None):\n",
    "        return self\n",
    "        \n",
    "        \n",
    "    def transform(self, X):\n",
    "        \n",
    "        try:\n",
    "            X[self.key] = X[self.key].map(self.country).fillna(0)\n",
    "            print('step 2 : OK')\n",
    "#             return self.country \n",
    "#             return X[self.key].values.reshape((-1,1))\n",
    "            return X\n",
    "        except:\n",
    "            print('not processed step 2')\n",
    "            return X[self.key].values.reshape((-1,1))\n",
    "        \n",
    "\n",
    "        \n",
    "\n",
    "class CustomCatBoostRegressor(CatBoostRegressor):\n",
    "\n",
    "    def fit(self, X, y=None, **fit_params):\n",
    "        return super().fit(X,y)\n",
    "       \n"
   ]
  },
  {
   "cell_type": "code",
   "execution_count": 49,
   "id": "variable-electron",
   "metadata": {},
   "outputs": [
    {
     "data": {
      "text/plain": [
       "\"\\npolys = Pipeline([('poly', PolyTrans_())])\\n\\nfeats = FeatureUnion([('date', dates),\\n                      ('countryregion', countryregion),\\n                      ('polys', polys),\\n                      \\n                      ])\\n\""
      ]
     },
     "execution_count": 49,
     "metadata": {},
     "output_type": "execute_result"
    }
   ],
   "source": [
    "class ColumnSelector(BaseEstimator, TransformerMixin):\n",
    "\n",
    "    def __init__(self, column):\n",
    "        self.column = column\n",
    "\n",
    "    def fit(self, X, y=None):\n",
    "        return self\n",
    "\n",
    "    def transform(self, X):\n",
    "        try:\n",
    "            print(' step 3 : OK')\n",
    "            return X[[self.column]]\n",
    "        except:\n",
    "            print('not processed step ')\n",
    "            return X[[self.column]]\n",
    "\n",
    "dates = Pipeline([('date' , DateSelector('date'))\n",
    "                   ])\n",
    "\n",
    "countryregion = Pipeline([('countryregion' , FactorizeSelector('countryregion', country))\n",
    "                   ])\n",
    "\n",
    "\n",
    "\n",
    "final_transformers = [('datas',dates),('c_r',countryregion)]\n",
    "poly_features = [  'deaths',  'recovered', 'active']\n",
    "for poly_feat in poly_features:\n",
    "    prepare_date = Pipeline([\n",
    "        ('selector', ColumnSelector(column=poly_feat)),\n",
    "        ('transformer', PolynomialFeatures())\n",
    "    ])\n",
    "    \n",
    "    final_transformers.append((poly_feat, prepare_date))\n",
    "    \n",
    "\n",
    "feats = FeatureUnion(final_transformers, verbose=1)\n",
    "feature_processing = Pipeline([('feats', feats)])\n",
    "'''\n",
    "polys = Pipeline([('poly', PolyTrans_())])\n",
    "\n",
    "feats = FeatureUnion([('date', dates),\n",
    "                      ('countryregion', countryregion),\n",
    "                      ('polys', polys),\n",
    "                      \n",
    "                      ])\n",
    "'''                      "
   ]
  },
  {
   "cell_type": "code",
   "execution_count": 50,
   "id": "respiratory-experience",
   "metadata": {},
   "outputs": [],
   "source": [
    "param_model = VotingRegressor(\n",
    "         estimators = [\n",
    "             ('lr', LinearRegression()),\n",
    "             ('forest', RandomForestRegressor(n_estimators=10, random_state=42)),\n",
    "             ('cat', CatBoostRegressor(random_state = 42, silent=True, depth = 3, learning_rate =  0.04))])"
   ]
  },
  {
   "cell_type": "code",
   "execution_count": 51,
   "id": "acquired-meeting",
   "metadata": {},
   "outputs": [
    {
     "name": "stdout",
     "output_type": "stream",
     "text": [
      "step 1 : OK\n",
      "[FeatureUnion] ......... (step 1 of 5) Processing datas, total=   1.0s\n",
      "step 2 : OK\n",
      "[FeatureUnion] ........... (step 2 of 5) Processing c_r, total=   0.0s\n",
      " step 3 : OK\n",
      "[FeatureUnion] ........ (step 3 of 5) Processing deaths, total=   0.0s\n",
      " step 3 : OK\n",
      "[FeatureUnion] ..... (step 4 of 5) Processing recovered, total=   0.0s\n",
      " step 3 : OK\n",
      "[FeatureUnion] ........ (step 5 of 5) Processing active, total=   0.0s\n",
      "[Pipeline] .......... (step 1 of 2) Processing features, total=   1.1s\n",
      "[Pipeline] ....... (step 2 of 2) Processing param_model, total=  18.8s\n",
      "Wall time: 19.8 s\n"
     ]
    },
    {
     "data": {
      "text/plain": [
       "Pipeline(steps=[('features',\n",
       "                 FeatureUnion(transformer_list=[('datas',\n",
       "                                                 Pipeline(steps=[('date',\n",
       "                                                                  DateSelector(key='date'))])),\n",
       "                                                ('c_r',\n",
       "                                                 Pipeline(steps=[('countryregion',\n",
       "                                                                  FactorizeSelector(country={'Afghanistan': 1,\n",
       "                                                                                             'Albania': 2,\n",
       "                                                                                             'Algeria': 3,\n",
       "                                                                                             'Andorra': 4,\n",
       "                                                                                             'Angola': 5,\n",
       "                                                                                             'Antigua and Barbuda': 6,\n",
       "                                                                                             'Argentina': 7,\n",
       "                                                                                             'Armenia': 8,\n",
       "                                                                                             'Australia': 9,\n",
       "                                                                                             'Austria': 10,\n",
       "                                                                                             'Azerbaijan': 11,\n",
       "                                                                                             'Bahamas...\n",
       "                                                                  PolynomialFeatures())])),\n",
       "                                                ('active',\n",
       "                                                 Pipeline(steps=[('selector',\n",
       "                                                                  ColumnSelector(column='active')),\n",
       "                                                                 ('transformer',\n",
       "                                                                  PolynomialFeatures())]))],\n",
       "                              verbose=1)),\n",
       "                ('param_model',\n",
       "                 VotingRegressor(estimators=[('lr', LinearRegression()),\n",
       "                                             ('forest',\n",
       "                                              RandomForestRegressor(n_estimators=10,\n",
       "                                                                    random_state=42)),\n",
       "                                             ('cat',\n",
       "                                              <catboost.core.CatBoostRegressor object at 0x000001CD5C093588>)]))],\n",
       "         verbose=1)"
      ]
     },
     "execution_count": 51,
     "metadata": {},
     "output_type": "execute_result"
    }
   ],
   "source": [
    "%%time\n",
    "\n",
    "pipeline = Pipeline([\n",
    "     ('features', feats),\n",
    "     ('param_model', param_model),\n",
    "#      ('regressor', CatBoostRegressor(random_state = 42, silent=True, depth = 3, learning_rate =  0.04)),\n",
    "#     ('classifier', LogisticRegression()),\n",
    "], verbose = 1)\n",
    "\n",
    "#pipeline.transform(X_test)\n",
    "# pipeline.fit(X_train,np.array(y_train).T)\n",
    "pipeline.fit(X_train,y_train)"
   ]
  },
  {
   "cell_type": "code",
   "execution_count": 52,
   "id": "reliable-remark",
   "metadata": {},
   "outputs": [
    {
     "name": "stdout",
     "output_type": "stream",
     "text": [
      "step 1 : OK\n",
      "step 2 : OK\n",
      " step 3 : OK\n",
      " step 3 : OK\n",
      " step 3 : OK\n"
     ]
    }
   ],
   "source": [
    "y_pred = pipeline.predict(X_test)"
   ]
  },
  {
   "cell_type": "code",
   "execution_count": 53,
   "id": "atomic-mounting",
   "metadata": {},
   "outputs": [
    {
     "name": "stdout",
     "output_type": "stream",
     "text": [
      "RMSE :  519017.7929461757\n",
      "MAE :  69150.66364564876\n",
      "R2 :  94.41847817540203\n"
     ]
    }
   ],
   "source": [
    "score_(y_test, y_pred)"
   ]
  },
  {
   "cell_type": "markdown",
   "id": "ceramic-handling",
   "metadata": {},
   "source": [
    "# Save Model"
   ]
  },
  {
   "cell_type": "code",
   "execution_count": 54,
   "id": "organic-tragedy",
   "metadata": {},
   "outputs": [],
   "source": [
    "# with open(\"Voronkov_pipeline_model.pkl\", \"wb\") as f:\n",
    "#         pickle.dump(pipeline, f)"
   ]
  },
  {
   "cell_type": "code",
   "execution_count": 55,
   "id": "electronic-gross",
   "metadata": {},
   "outputs": [],
   "source": [
    "with open(\"Voronkov_pipeline_model.dill\", \"wb\") as f:\n",
    "    dill.dump(pipeline, f)"
   ]
  },
  {
   "cell_type": "markdown",
   "id": "applicable-migration",
   "metadata": {},
   "source": [
    "# Loading model"
   ]
  },
  {
   "cell_type": "code",
   "execution_count": 56,
   "id": "electronic-designation",
   "metadata": {},
   "outputs": [],
   "source": [
    "# with open(\"Voronkov_pipeline_model.pkl\", \"rb\") as f:\n",
    "#     Voronkov_model = pickle.load(f)"
   ]
  },
  {
   "cell_type": "code",
   "execution_count": 57,
   "id": "taken-north",
   "metadata": {},
   "outputs": [],
   "source": [
    "with open('Voronkov_pipeline_model.dill', 'rb') as in_strm:\n",
    "    Voronkov_model = dill.load(in_strm)"
   ]
  },
  {
   "cell_type": "code",
   "execution_count": null,
   "id": "incorrect-interface",
   "metadata": {},
   "outputs": [],
   "source": []
  },
  {
   "cell_type": "code",
   "execution_count": 58,
   "id": "quiet-point",
   "metadata": {},
   "outputs": [],
   "source": [
    "X_test = pd.read_csv('X_test.csv', index_col = 0)\n",
    "y_test = pd.read_csv('y_test.csv', index_col = 0)"
   ]
  },
  {
   "cell_type": "code",
   "execution_count": 59,
   "id": "norman-links",
   "metadata": {},
   "outputs": [
    {
     "name": "stdout",
     "output_type": "stream",
     "text": [
      "<class 'pandas.core.frame.DataFrame'>\n",
      "Int64Index: 40826 entries, 95402 to 136343\n",
      "Data columns (total 5 columns):\n",
      " #   Column         Non-Null Count  Dtype  \n",
      "---  ------         --------------  -----  \n",
      " 0   date           40826 non-null  object \n",
      " 1   countryregion  40826 non-null  object \n",
      " 2   deaths         40826 non-null  int64  \n",
      " 3   recovered      40826 non-null  float64\n",
      " 4   active         40826 non-null  float64\n",
      "dtypes: float64(2), int64(1), object(2)\n",
      "memory usage: 1.9+ MB\n"
     ]
    }
   ],
   "source": [
    "X_test.info()"
   ]
  },
  {
   "cell_type": "code",
   "execution_count": 60,
   "id": "experimental-following",
   "metadata": {},
   "outputs": [
    {
     "name": "stdout",
     "output_type": "stream",
     "text": [
      "step 1 : OK\n",
      "step 2 : OK\n",
      " step 3 : OK\n",
      " step 3 : OK\n",
      " step 3 : OK\n"
     ]
    }
   ],
   "source": [
    "pred = Voronkov_model.predict(X_test)"
   ]
  },
  {
   "cell_type": "code",
   "execution_count": 61,
   "id": "threatened-techno",
   "metadata": {},
   "outputs": [
    {
     "name": "stdout",
     "output_type": "stream",
     "text": [
      "RMSE :  671704.1872361792\n",
      "MAE :  84582.70750443578\n",
      "R2 :  90.65145021283186\n"
     ]
    }
   ],
   "source": [
    "score_(y_test, pred)"
   ]
  },
  {
   "cell_type": "code",
   "execution_count": null,
   "id": "economic-powder",
   "metadata": {},
   "outputs": [],
   "source": []
  },
  {
   "cell_type": "code",
   "execution_count": null,
   "id": "linear-advocacy",
   "metadata": {},
   "outputs": [],
   "source": []
  },
  {
   "cell_type": "code",
   "execution_count": 67,
   "id": "controversial-intellectual",
   "metadata": {},
   "outputs": [],
   "source": [
    "float_features = np.array(['21*0919', 'Russia', 197425, 6485264,7254754])"
   ]
  },
  {
   "cell_type": "code",
   "execution_count": 68,
   "id": "sufficient-fever",
   "metadata": {},
   "outputs": [
    {
     "data": {
      "text/plain": [
       "array([['21*0919', 'Russia', '197425', '6485264', '7254754']],\n",
       "      dtype='<U11')"
      ]
     },
     "execution_count": 68,
     "metadata": {},
     "output_type": "execute_result"
    }
   ],
   "source": [
    "float_features.reshape((1,-1))"
   ]
  },
  {
   "cell_type": "code",
   "execution_count": 69,
   "id": "swiss-height",
   "metadata": {},
   "outputs": [],
   "source": [
    "features = pd.DataFrame(np.array(float_features).reshape((1,-1)), columns=['date', 'countryregion', 'deaths', 'recovered', 'active'])"
   ]
  },
  {
   "cell_type": "code",
   "execution_count": 70,
   "id": "played-triangle",
   "metadata": {},
   "outputs": [
    {
     "data": {
      "text/plain": [
       "'21*0919'"
      ]
     },
     "execution_count": 70,
     "metadata": {},
     "output_type": "execute_result"
    }
   ],
   "source": [
    "float_features[0]"
   ]
  },
  {
   "cell_type": "code",
   "execution_count": 71,
   "id": "different-stephen",
   "metadata": {},
   "outputs": [
    {
     "name": "stdout",
     "output_type": "stream",
     "text": [
      "step 1 : OK\n",
      "step 2 : OK\n",
      " step 3 : OK\n",
      " step 3 : OK\n",
      " step 3 : OK\n"
     ]
    },
    {
     "data": {
      "text/plain": [
       "array([11237079.08407387])"
      ]
     },
     "execution_count": 71,
     "metadata": {},
     "output_type": "execute_result"
    }
   ],
   "source": [
    "Voronkov_model.predict(features)"
   ]
  },
  {
   "cell_type": "code",
   "execution_count": null,
   "id": "verified-circumstances",
   "metadata": {},
   "outputs": [],
   "source": []
  }
 ],
 "metadata": {
  "kernelspec": {
   "display_name": "Python 3",
   "language": "python",
   "name": "python3"
  },
  "language_info": {
   "codemirror_mode": {
    "name": "ipython",
    "version": 3
   },
   "file_extension": ".py",
   "mimetype": "text/x-python",
   "name": "python",
   "nbconvert_exporter": "python",
   "pygments_lexer": "ipython3",
   "version": "3.7.9"
  }
 },
 "nbformat": 4,
 "nbformat_minor": 5
}
