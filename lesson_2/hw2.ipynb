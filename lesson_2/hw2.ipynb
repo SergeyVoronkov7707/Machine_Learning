{
 "cells": [
  {
   "cell_type": "markdown",
   "metadata": {
    "id": "UAPIqie0HvKU"
   },
   "source": [
    "Самостоятельно разобраться с тем, что такое tfidf (документация https://scikit-learn.org/stable/modules/generated/sklearn.feature_extraction.text.TfidfVectorizer.html и еще - https://scikit-learn.org/stable/modules/feature_extraction.html#text-feature-extraction)  \n",
    "Модифицировать код функции get_user_embedding таким образом, чтобы считалось не среднее (как в примере np.mean), а медиана. Применить такое преобразование к данным, обучить модель прогнозирования оттока и посчитать метрики качества и сохранить их: roc auc, precision/recall/f_score (для 3 последних - подобрать оптимальный порог с помощью precision_recall_curve, как это делалось на уроке)\n",
    "Повторить п.2, но используя уже не медиану, а max  \n",
    "(опциональное, если очень хочется) Воспользовавшись полученными знаниями из п.1, повторить пункт 2, но уже взвешивая новости по tfidf (подсказка: нужно получить веса-коэффициенты для каждого документа. Не все документы одинаково информативны и несут какой-то положительный сигнал). Подсказка 2 - нужен именно idf, как вес.  \n",
    "Сформировать на выходе единую таблицу, сравнивающую качество 3 разных метода получения эмбедингов пользователей: mean, median, max, idf_mean по метрикам roc_auc, precision, recall, f_score  \n",
    "Сделать самостоятельные выводы и предположения о том, почему тот или ной способ оказался эффективнее остальных  "
   ]
  },
  {
   "cell_type": "markdown",
   "metadata": {
    "id": "Gds4vHzMMIF8"
   },
   "source": [
    "### Урок 2. #Профилирование пользователей. Сегментация аудитории: unsupervised learning (clustering, LDA/ARTM), supervised (multi/binary classification)#"
   ]
  },
  {
   "cell_type": "markdown",
   "metadata": {
    "id": "_cHdaVftMIGB"
   },
   "source": [
    "План занятия:\n",
    "\n",
    "1. задача сегментации аудитории по интересам - для чего\n",
    "2. тематическое моделирование - получаем эмбединги текстов\n",
    "3. решаем downstream-задачу (профилирование аудитории новостного портала)"
   ]
  },
  {
   "cell_type": "markdown",
   "metadata": {
    "id": "y3b6LoVSMIGD"
   },
   "source": [
    "Рассматривать мы все будем в контексте решения конкретной прикладной задачи - задачи оттока"
   ]
  },
  {
   "cell_type": "markdown",
   "metadata": {
    "id": "WMkEPATUMIGE"
   },
   "source": [
    "#### Задача сегментации (неформальное определение)"
   ]
  },
  {
   "cell_type": "markdown",
   "metadata": {
    "id": "bxhWQlaTMIGF"
   },
   "source": [
    "Разбиваем пользователей на группы, чем-то отличающиеся друг от друга"
   ]
  },
  {
   "cell_type": "markdown",
   "metadata": {
    "id": "Sf4BT9PdMIGF"
   },
   "source": [
    "Если же более формально, то:\n",
    "\n",
    "Сегментация клиентской базы — это способ повышения эффективности работы с пользователями путем их распределения по отдельным группам, или сегментам, в соответствии с их запросами и/или потребностями."
   ]
  },
  {
   "cell_type": "markdown",
   "metadata": {
    "id": "2Qjq_S_RMIGG"
   },
   "source": [
    "Сегментация может быть очень разной:"
   ]
  },
  {
   "cell_type": "markdown",
   "metadata": {
    "id": "E9I1jZUDMIGh"
   },
   "source": [
    "### Переходим к практике"
   ]
  },
  {
   "cell_type": "markdown",
   "metadata": {
    "id": "8VQatlNwZDjq"
   },
   "source": [
    "Три ячейки ниже делаем в Google Colaboratory\n",
    "\n",
    "- установим razdel\n",
    "- установим pymorphy2"
   ]
  },
  {
   "cell_type": "markdown",
   "metadata": {
    "id": "eIe9nZQuAzdY"
   },
   "source": [
    "https://drive.google.com/file/d/1QS_1hjvSO5PmH_ChHOwi-U-iE-8UFSVJ/view?usp=sharing\n",
    "https://drive.google.com/file/d/1EM64ivk98hKY4gkE5nkSQ1Ly39iYMfsg/view?usp=sharing\n",
    "https://drive.google.com/file/d/1OFowsulpIvUi2hGo55_Cgg5p6NXxSF1I/view?usp=sharing\n",
    "https://drive.google.com/file/d/1vqw9lKxhIhhiQZML-d0ERBpyorhSmL8a/view?usp=sharing\n",
    "https://drive.google.com/file/d/1bxtVbd6I9bZUsY6uBfrXa2-eLdC3ZPiH/view?usp=sharing"
   ]
  },
  {
   "cell_type": "code",
   "execution_count": 68,
   "metadata": {
    "colab": {
     "base_uri": "https://localhost:8080/"
    },
    "id": "R83GbikzE7cN",
    "outputId": "0a8ce099-5d44-40c1-c560-11ed269cb870"
   },
   "outputs": [
    {
     "name": "stdout",
     "output_type": "stream",
     "text": [
      "Downloading...\n",
      "From: https://drive.google.com/uc?id=1QS_1hjvSO5PmH_ChHOwi-U-iE-8UFSVJ\n",
      "To: /content/articles.csv\n",
      "145MB [00:01, 142MB/s]\n"
     ]
    }
   ],
   "source": [
    "! gdown --id 1QS_1hjvSO5PmH_ChHOwi-U-iE-8UFSVJ"
   ]
  },
  {
   "cell_type": "code",
   "execution_count": 69,
   "metadata": {
    "colab": {
     "base_uri": "https://localhost:8080/"
    },
    "id": "xUvC1N6-BIT9",
    "outputId": "dc4bcfb0-fb61-44d9-8c5d-668479966453"
   },
   "outputs": [
    {
     "name": "stdout",
     "output_type": "stream",
     "text": [
      "Downloading...\n",
      "From: https://drive.google.com/uc?id=1EM64ivk98hKY4gkE5nkSQ1Ly39iYMfsg\n",
      "To: /content/articles_idf.csv\n",
      "\r",
      "  0% 0.00/368k [00:00<?, ?B/s]\r",
      "100% 368k/368k [00:00<00:00, 53.2MB/s]\n"
     ]
    }
   ],
   "source": [
    "! gdown --id 1EM64ivk98hKY4gkE5nkSQ1Ly39iYMfsg"
   ]
  },
  {
   "cell_type": "code",
   "execution_count": 70,
   "metadata": {
    "colab": {
     "base_uri": "https://localhost:8080/"
    },
    "id": "E1P2CeABBeam",
    "outputId": "08ba74f0-3414-4bdd-871d-1e6944298e6e"
   },
   "outputs": [
    {
     "name": "stdout",
     "output_type": "stream",
     "text": [
      "Downloading...\n",
      "From: https://drive.google.com/uc?id=1OFowsulpIvUi2hGo55_Cgg5p6NXxSF1I\n",
      "To: /content/users_articles.csv\n",
      "\r",
      "  0% 0.00/434k [00:00<?, ?B/s]\r",
      "100% 434k/434k [00:00<00:00, 57.4MB/s]\n"
     ]
    }
   ],
   "source": [
    "! gdown --id 1OFowsulpIvUi2hGo55_Cgg5p6NXxSF1I"
   ]
  },
  {
   "cell_type": "code",
   "execution_count": 71,
   "metadata": {
    "colab": {
     "base_uri": "https://localhost:8080/"
    },
    "id": "X7DC41KyBpk8",
    "outputId": "995e63b3-d334-4844-b49e-50738c2a0fc7"
   },
   "outputs": [
    {
     "name": "stdout",
     "output_type": "stream",
     "text": [
      "Downloading...\n",
      "From: https://drive.google.com/uc?id=1vqw9lKxhIhhiQZML-d0ERBpyorhSmL8a\n",
      "To: /content/users_churn.csv\n",
      "\r",
      "  0% 0.00/80.0k [00:00<?, ?B/s]\r",
      "100% 80.0k/80.0k [00:00<00:00, 27.6MB/s]\n"
     ]
    }
   ],
   "source": [
    "! gdown --id 1vqw9lKxhIhhiQZML-d0ERBpyorhSmL8a"
   ]
  },
  {
   "cell_type": "code",
   "execution_count": 72,
   "metadata": {
    "colab": {
     "base_uri": "https://localhost:8080/"
    },
    "id": "ArWz2AEfC8uE",
    "outputId": "1d6e89c8-9391-4d1f-fa11-7f97a3fc9acb"
   },
   "outputs": [
    {
     "name": "stdout",
     "output_type": "stream",
     "text": [
      "Downloading...\n",
      "From: https://drive.google.com/uc?id=1bxtVbd6I9bZUsY6uBfrXa2-eLdC3ZPiH\n",
      "To: /content/stopwords.txt\n",
      "\r",
      "  0% 0.00/5.37k [00:00<?, ?B/s]\r",
      "100% 5.37k/5.37k [00:00<00:00, 9.15MB/s]\n"
     ]
    }
   ],
   "source": [
    "! gdown --id 1bxtVbd6I9bZUsY6uBfrXa2-eLdC3ZPiH"
   ]
  },
  {
   "cell_type": "code",
   "execution_count": 73,
   "metadata": {
    "colab": {
     "base_uri": "https://localhost:8080/"
    },
    "id": "1yqhFYoKOIIw",
    "outputId": "4c44c82f-cf50-4f4f-96a5-72bffeccd8b3"
   },
   "outputs": [
    {
     "name": "stdout",
     "output_type": "stream",
     "text": [
      "Requirement already satisfied: razdel in /usr/local/lib/python3.7/dist-packages (0.5.0)\n"
     ]
    }
   ],
   "source": [
    "!pip install razdel"
   ]
  },
  {
   "cell_type": "code",
   "execution_count": 74,
   "metadata": {
    "colab": {
     "base_uri": "https://localhost:8080/"
    },
    "id": "-sNoY9zpOQN7",
    "outputId": "17870b44-9bf4-44ae-a96b-336bd298477a"
   },
   "outputs": [
    {
     "name": "stdout",
     "output_type": "stream",
     "text": [
      "Requirement already satisfied: pymorphy2 in /usr/local/lib/python3.7/dist-packages (0.9.1)\n",
      "Requirement already satisfied: pymorphy2-dicts-ru<3.0,>=2.4 in /usr/local/lib/python3.7/dist-packages (from pymorphy2) (2.4.417127.4579844)\n",
      "Requirement already satisfied: docopt>=0.6 in /usr/local/lib/python3.7/dist-packages (from pymorphy2) (0.6.2)\n",
      "Requirement already satisfied: dawg-python>=0.7.1 in /usr/local/lib/python3.7/dist-packages (from pymorphy2) (0.7.2)\n"
     ]
    }
   ],
   "source": [
    "!pip install pymorphy2"
   ]
  },
  {
   "cell_type": "markdown",
   "metadata": {
    "id": "-gAbp044Zlj_"
   },
   "source": [
    "Делаем доступ к Googl Drive"
   ]
  },
  {
   "cell_type": "code",
   "execution_count": 75,
   "metadata": {
    "id": "ctZ-EA4UMIGh"
   },
   "outputs": [],
   "source": [
    "import pandas as pd"
   ]
  },
  {
   "cell_type": "markdown",
   "metadata": {
    "id": "AmhH7IAvMIGi"
   },
   "source": [
    "Наши новости"
   ]
  },
  {
   "cell_type": "code",
   "execution_count": 76,
   "metadata": {
    "colab": {
     "base_uri": "https://localhost:8080/",
     "height": 153
    },
    "id": "gycmprucMIGi",
    "outputId": "7532b7cd-3423-4d9b-e745-c4e945f5f3b0"
   },
   "outputs": [
    {
     "name": "stdout",
     "output_type": "stream",
     "text": [
      "(27000, 2)\n"
     ]
    },
    {
     "data": {
      "text/html": [
       "<div>\n",
       "<style scoped>\n",
       "    .dataframe tbody tr th:only-of-type {\n",
       "        vertical-align: middle;\n",
       "    }\n",
       "\n",
       "    .dataframe tbody tr th {\n",
       "        vertical-align: top;\n",
       "    }\n",
       "\n",
       "    .dataframe thead th {\n",
       "        text-align: right;\n",
       "    }\n",
       "</style>\n",
       "<table border=\"1\" class=\"dataframe\">\n",
       "  <thead>\n",
       "    <tr style=\"text-align: right;\">\n",
       "      <th></th>\n",
       "      <th>doc_id</th>\n",
       "      <th>title</th>\n",
       "    </tr>\n",
       "  </thead>\n",
       "  <tbody>\n",
       "    <tr>\n",
       "      <th>0</th>\n",
       "      <td>6</td>\n",
       "      <td>Заместитель председателяnправительства РФnСерг...</td>\n",
       "    </tr>\n",
       "    <tr>\n",
       "      <th>1</th>\n",
       "      <td>4896</td>\n",
       "      <td>Матч 1/16 финала Кубка России по футболу был п...</td>\n",
       "    </tr>\n",
       "    <tr>\n",
       "      <th>2</th>\n",
       "      <td>4897</td>\n",
       "      <td>Форвард «Авангарда» Томаш Заборский прокоммент...</td>\n",
       "    </tr>\n",
       "  </tbody>\n",
       "</table>\n",
       "</div>"
      ],
      "text/plain": [
       "   doc_id                                              title\n",
       "0       6  Заместитель председателяnправительства РФnСерг...\n",
       "1    4896  Матч 1/16 финала Кубка России по футболу был п...\n",
       "2    4897  Форвард «Авангарда» Томаш Заборский прокоммент..."
      ]
     },
     "execution_count": 76,
     "metadata": {
      "tags": []
     },
     "output_type": "execute_result"
    }
   ],
   "source": [
    "news = pd.read_csv(\"/content/articles.csv\")\n",
    "print(news.shape)\n",
    "news.head(3)"
   ]
  },
  {
   "cell_type": "markdown",
   "metadata": {
    "id": "H-eNWlDnMIGl"
   },
   "source": [
    "Загрузим пользователей и списки последних прочитанных новостей"
   ]
  },
  {
   "cell_type": "code",
   "execution_count": 77,
   "metadata": {
    "colab": {
     "base_uri": "https://localhost:8080/",
     "height": 135
    },
    "id": "rIXeUk4iMIGl",
    "outputId": "98872e6e-3ac7-4795-a798-f41003dfac89"
   },
   "outputs": [
    {
     "data": {
      "text/html": [
       "<div>\n",
       "<style scoped>\n",
       "    .dataframe tbody tr th:only-of-type {\n",
       "        vertical-align: middle;\n",
       "    }\n",
       "\n",
       "    .dataframe tbody tr th {\n",
       "        vertical-align: top;\n",
       "    }\n",
       "\n",
       "    .dataframe thead th {\n",
       "        text-align: right;\n",
       "    }\n",
       "</style>\n",
       "<table border=\"1\" class=\"dataframe\">\n",
       "  <thead>\n",
       "    <tr style=\"text-align: right;\">\n",
       "      <th></th>\n",
       "      <th>uid</th>\n",
       "      <th>articles</th>\n",
       "    </tr>\n",
       "  </thead>\n",
       "  <tbody>\n",
       "    <tr>\n",
       "      <th>0</th>\n",
       "      <td>u105138</td>\n",
       "      <td>[293672, 293328, 293001, 293622, 293126, 1852]</td>\n",
       "    </tr>\n",
       "    <tr>\n",
       "      <th>1</th>\n",
       "      <td>u108690</td>\n",
       "      <td>[3405, 1739, 2972, 1158, 1599, 322665]</td>\n",
       "    </tr>\n",
       "    <tr>\n",
       "      <th>2</th>\n",
       "      <td>u108339</td>\n",
       "      <td>[1845, 2009, 2356, 1424, 2939, 323389]</td>\n",
       "    </tr>\n",
       "  </tbody>\n",
       "</table>\n",
       "</div>"
      ],
      "text/plain": [
       "       uid                                        articles\n",
       "0  u105138  [293672, 293328, 293001, 293622, 293126, 1852]\n",
       "1  u108690          [3405, 1739, 2972, 1158, 1599, 322665]\n",
       "2  u108339          [1845, 2009, 2356, 1424, 2939, 323389]"
      ]
     },
     "execution_count": 77,
     "metadata": {
      "tags": []
     },
     "output_type": "execute_result"
    }
   ],
   "source": [
    "users = pd.read_csv(\"/content/users_articles.csv\")\n",
    "users.head(3)"
   ]
  },
  {
   "cell_type": "markdown",
   "metadata": {
    "id": "9kFAT-qMMIGm"
   },
   "source": [
    "Итак, нам нужно получить векторные представления пользователей на основе прочитанным ими новостей и самих новостей"
   ]
  },
  {
   "cell_type": "markdown",
   "metadata": {
    "id": "ra5jYUNoMIGm"
   },
   "source": [
    "### 1. Получаем векторные представления новостей"
   ]
  },
  {
   "cell_type": "code",
   "execution_count": 78,
   "metadata": {
    "id": "LBjgEo9DMIGm"
   },
   "outputs": [],
   "source": [
    "#from gensim.test.utils import common_texts\n",
    "# https://webdevblog.ru/gensim-rukovodstvo-dlya-nachinajushhih/\n",
    "from gensim.corpora.dictionary import Dictionary"
   ]
  },
  {
   "cell_type": "code",
   "execution_count": 79,
   "metadata": {
    "id": "pXp8Q2WNMIGn"
   },
   "outputs": [],
   "source": [
    "#предобработка текстов\n",
    "import re\n",
    "import numpy as np\n",
    "from nltk.corpus import stopwords\n",
    "#from nltk.tokenize import word_tokenize\n",
    "\n",
    "from razdel import tokenize # https://github.com/natasha/razdel\n",
    "#!pip install razdel\n",
    "\n",
    "import pymorphy2  # pip install pymorphy2"
   ]
  },
  {
   "cell_type": "code",
   "execution_count": 80,
   "metadata": {
    "colab": {
     "base_uri": "https://localhost:8080/"
    },
    "id": "ea5xiOOMOgla",
    "outputId": "5f70c70c-98e2-486f-ba8a-67790fb63f8e"
   },
   "outputs": [
    {
     "name": "stdout",
     "output_type": "stream",
     "text": [
      "[nltk_data] Downloading package stopwords to /root/nltk_data...\n",
      "[nltk_data]   Package stopwords is already up-to-date!\n"
     ]
    },
    {
     "data": {
      "text/plain": [
       "True"
      ]
     },
     "execution_count": 80,
     "metadata": {
      "tags": []
     },
     "output_type": "execute_result"
    }
   ],
   "source": [
    "import nltk\n",
    "nltk.download('stopwords')"
   ]
  },
  {
   "cell_type": "code",
   "execution_count": 81,
   "metadata": {
    "id": "n4UkLRydMIGn"
   },
   "outputs": [],
   "source": [
    "stopword_ru = stopwords.words('russian')\n",
    "len(stopword_ru)\n",
    "\n",
    "morph = pymorphy2.MorphAnalyzer()"
   ]
  },
  {
   "cell_type": "code",
   "execution_count": 82,
   "metadata": {
    "colab": {
     "base_uri": "https://localhost:8080/"
    },
    "id": "JvD3j5zYEPZS",
    "outputId": "af27a8d4-8210-44ed-ca43-ede523f85558"
   },
   "outputs": [
    {
     "data": {
      "text/plain": [
       "151"
      ]
     },
     "execution_count": 82,
     "metadata": {
      "tags": []
     },
     "output_type": "execute_result"
    }
   ],
   "source": [
    "len(stopword_ru)"
   ]
  },
  {
   "cell_type": "code",
   "execution_count": 83,
   "metadata": {
    "colab": {
     "base_uri": "https://localhost:8080/"
    },
    "id": "gRCY_H-LMIGo",
    "outputId": "7faa4289-b547-459b-b160-7c236b56b0cd"
   },
   "outputs": [
    {
     "data": {
      "text/plain": [
       "776"
      ]
     },
     "execution_count": 83,
     "metadata": {
      "tags": []
     },
     "output_type": "execute_result"
    }
   ],
   "source": [
    "with open('/content/stopwords.txt') as f:\n",
    "    additional_stopwords = [w.strip() for w in f.readlines() if w]\n",
    "stopword_ru += additional_stopwords\n",
    "len(stopword_ru)"
   ]
  },
  {
   "cell_type": "code",
   "execution_count": 84,
   "metadata": {
    "colab": {
     "base_uri": "https://localhost:8080/",
     "height": 36
    },
    "id": "5zG-fPb7Et2-",
    "outputId": "4b4d9175-de15-43fd-8426-48d5361f96ec"
   },
   "outputs": [
    {
     "data": {
      "application/vnd.google.colaboratory.intrinsic+json": {
       "type": "string"
      },
      "text/plain": [
       "'почти'"
      ]
     },
     "execution_count": 84,
     "metadata": {
      "tags": []
     },
     "output_type": "execute_result"
    }
   ],
   "source": [
    "stopword_ru[100]"
   ]
  },
  {
   "cell_type": "code",
   "execution_count": 85,
   "metadata": {
    "colab": {
     "base_uri": "https://localhost:8080/"
    },
    "id": "90aWsoUley3W",
    "outputId": "5a94bc95-faf3-409b-a604-a1ae612176f1"
   },
   "outputs": [
    {
     "data": {
      "text/plain": [
       "[Substring(0, 11, 'Заместитель'),\n",
       " Substring(12, 24, 'председателя'),\n",
       " Substring(24, 25, 'n'),\n",
       " Substring(25, 38, 'правительства'),\n",
       " Substring(39, 41, 'РФ'),\n",
       " Substring(41, 42, 'n'),\n",
       " Substring(42, 48, 'Сергей'),\n",
       " Substring(48, 49, 'n'),\n",
       " Substring(49, 55, 'Иванов'),\n",
       " Substring(55, 56, 'n'),\n",
       " Substring(56, 62, 'избран'),\n",
       " Substring(63, 76, 'председателем'),\n",
       " Substring(77, 83, 'совета'),\n",
       " Substring(83, 84, 'n'),\n",
       " Substring(84, 87, 'ПБК'),\n",
       " Substring(88, 92, 'ЦСКА'),\n",
       " Substring(92, 93, 'n'),\n",
       " Substring(93, 94, '.'),\n",
       " Substring(95, 98, 'Как'),\n",
       " Substring(99, 100, 'с')]"
      ]
     },
     "execution_count": 85,
     "metadata": {
      "tags": []
     },
     "output_type": "execute_result"
    }
   ],
   "source": [
    "list(tokenize(news.iloc[0,1][:100],   ))"
   ]
  },
  {
   "cell_type": "code",
   "execution_count": 86,
   "metadata": {
    "id": "eI6fgLx5HAPF"
   },
   "outputs": [],
   "source": [
    "def clean_text(text):\n",
    "    '''\n",
    "    очистка текста\n",
    "    \n",
    "    на выходе очищеный текст\n",
    "    \n",
    "    '''\n",
    "    if not isinstance(text, str):\n",
    "        text = str(text)\n",
    "    \n",
    "    text = text.lower()\n",
    "    text = text.strip('\\n').strip('\\r').strip('\\t')\n",
    "    text = re.sub(\"-\\s\\r\\n\\|-\\s\\r\\n|\\r\\n\", '', str(text))\n",
    "\n",
    "    text = re.sub(\"[0-9]|[-—.,:;_%©«»?*!@#№$^•·&()]|[+=]|[[]|[]]|[/]|\", '', text)\n",
    "    text = re.sub(r\"\\r\\n\\t|\\n|\\\\s|\\r\\t|\\\\n\", ' ', text)\n",
    "    text = re.sub(r'[\\xad]|[\\s+]', ' ', text.strip())\n",
    "    \n",
    "    #tokens = list(tokenize(text))\n",
    "    #words = [_.text for _ in tokens]\n",
    "    #words = [w for w in words if w not in stopword_ru]\n",
    "    \n",
    "    #return \" \".join(words)\n",
    "    return text\n",
    "\n",
    "cache = {}\n",
    "\n"
   ]
  },
  {
   "cell_type": "code",
   "execution_count": 87,
   "metadata": {
    "id": "sFVQXq7RHJBS"
   },
   "outputs": [],
   "source": [
    "def lemmatization(text):\n",
    "    '''\n",
    "    лемматизация\n",
    "        [0] если зашел тип не `str` делаем его `str`\n",
    "        [1] токенизация предложения через razdel\n",
    "        [2] проверка есть ли в начале слова '-'\n",
    "        [3] проверка токена с одного символа\n",
    "        [4] проверка есть ли данное слово в кэше\n",
    "        [5] лемматизация слова\n",
    "        [6] проверка на стоп-слова\n",
    "\n",
    "    на выходе лист отлемматизированых токенов\n",
    "    '''\n",
    "\n",
    "    # [0]\n",
    "    if not isinstance(text, str):\n",
    "        text = str(text)\n",
    "    \n",
    "    # [1]\n",
    "    tokens = list(tokenize(text))\n",
    "    words = [_.text for _ in tokens]\n",
    "\n",
    "    words_lem = []\n",
    "    for w in words:\n",
    "        if w[0] == '-': # [2]\n",
    "            w = w[1:]\n",
    "        if len(w)>1: # [3]\n",
    "            if w in cache: # [4]\n",
    "                words_lem.append(cache[w])\n",
    "            else: # [5]\n",
    "                temp_cach = cache[w] = morph.parse(w)[0].normal_form\n",
    "                words_lem.append(temp_cach)\n",
    "    \n",
    "    words_lem_without_stopwords=[i for i in words_lem if not i in stopword_ru] # [6]\n",
    "    \n",
    "    return words_lem_without_stopwords"
   ]
  },
  {
   "cell_type": "code",
   "execution_count": 88,
   "metadata": {
    "colab": {
     "base_uri": "https://localhost:8080/"
    },
    "id": "nZHNY8lqeA6a",
    "outputId": "67442b7f-93bb-484f-de44-dd4bf61232c6"
   },
   "outputs": [
    {
     "data": {
      "text/plain": [
       "0    заместитель председателяnправительства рфnсерг...\n",
       "1    матч  финала кубка россии по футболу был приос...\n",
       "Name: title, dtype: object"
      ]
     },
     "execution_count": 88,
     "metadata": {
      "tags": []
     },
     "output_type": "execute_result"
    }
   ],
   "source": [
    "norm_text = news.iloc[:2,1].apply(lambda x: clean_text(x), 1)\n",
    "norm_text"
   ]
  },
  {
   "cell_type": "code",
   "execution_count": 89,
   "metadata": {
    "colab": {
     "base_uri": "https://localhost:8080/"
    },
    "id": "VqgNGTEPGZnr",
    "outputId": "f3069964-5cf7-4976-f97c-81d4661d8c32"
   },
   "outputs": [
    {
     "data": {
      "text/plain": [
       "['заместитель', 'председатель', 'правительство', 'рф', 'сергей']"
      ]
     },
     "execution_count": 89,
     "metadata": {
      "tags": []
     },
     "output_type": "execute_result"
    }
   ],
   "source": [
    "lemmatization(norm_text[0])[:5]"
   ]
  },
  {
   "cell_type": "code",
   "execution_count": 90,
   "metadata": {
    "colab": {
     "base_uri": "https://localhost:8080/"
    },
    "id": "KfixKuSMMIGq",
    "outputId": "77523231-4493-4d4e-9ddf-81624a1b5532"
   },
   "outputs": [
    {
     "name": "stdout",
     "output_type": "stream",
     "text": [
      "CPU times: user 25.4 s, sys: 573 ms, total: 26 s\n",
      "Wall time: 26.1 s\n"
     ]
    }
   ],
   "source": [
    "%%time\n",
    "#Запускаем очистку текста. Будет долго...\n",
    "news['title'] = news['title'].apply(lambda x: clean_text(x), 1)"
   ]
  },
  {
   "cell_type": "code",
   "execution_count": 91,
   "metadata": {
    "colab": {
     "base_uri": "https://localhost:8080/"
    },
    "id": "A0m01zNlMIGs",
    "outputId": "bc77739e-6afc-4c7c-e3fb-0167ce47a824"
   },
   "outputs": [
    {
     "name": "stdout",
     "output_type": "stream",
     "text": [
      "CPU times: user 4min 26s, sys: 834 ms, total: 4min 27s\n",
      "Wall time: 4min 27s\n"
     ]
    }
   ],
   "source": [
    "%%time\n",
    "#Запускаем лемматизацию текста. Будет очень долго...\n",
    "news['title'] = news['title'].apply(lambda x: lemmatization(x), 1)"
   ]
  },
  {
   "cell_type": "markdown",
   "metadata": {
    "id": "OMqHynF9MIGu"
   },
   "source": [
    "А теперь в 3 строчки обучим нашу модель"
   ]
  },
  {
   "cell_type": "code",
   "execution_count": 92,
   "metadata": {
    "id": "Yd6EZ8RbMIGu"
   },
   "outputs": [],
   "source": [
    "# #сформируем список наших текстов, разбив еще и на пробелы\n",
    "# texts = [t for t in news['title'].values]\n",
    "\n",
    "# # Create a corpus from a list of texts\n",
    "# common_dictionary = Dictionary(texts)\n",
    "# common_corpus = [common_dictionary.doc2bow(text) for text in texts]"
   ]
  },
  {
   "cell_type": "code",
   "execution_count": 185,
   "metadata": {
    "id": "sSImgmL2dgCw"
   },
   "outputs": [],
   "source": [
    "from sklearn.feature_extraction.text import TfidfVectorizer"
   ]
  },
  {
   "cell_type": "markdown",
   "metadata": {
    "id": "hQfhjyspMIGv"
   },
   "source": [
    "Что такое common_dictionary и как он выглядит"
   ]
  },
  {
   "cell_type": "code",
   "execution_count": 93,
   "metadata": {
    "colab": {
     "base_uri": "https://localhost:8080/",
     "height": 36
    },
    "id": "MBAN3PvWMIGv",
    "outputId": "76bd374c-ca6f-4ea2-da19-8499e26c7bb4"
   },
   "outputs": [
    {
     "data": {
      "application/vnd.google.colaboratory.intrinsic+json": {
       "type": "string"
      },
      "text/plain": [
       "'армеец'"
      ]
     },
     "execution_count": 93,
     "metadata": {
      "tags": []
     },
     "output_type": "execute_result"
    }
   ],
   "source": [
    "common_dictionary[4]"
   ]
  },
  {
   "cell_type": "code",
   "execution_count": 184,
   "metadata": {
    "colab": {
     "base_uri": "https://localhost:8080/"
    },
    "id": "aJv_IlHdmUjt",
    "outputId": "d0f59509-bf88-4481-bd62-fcff3114569a"
   },
   "outputs": [
    {
     "data": {
      "text/plain": [
       "{0: 'nn',\n",
       " 1: 'александр',\n",
       " 2: 'алексей',\n",
       " 3: 'андрей',\n",
       " 4: 'армеец',\n",
       " 5: 'банк',\n",
       " 6: 'баскетбол',\n",
       " 7: 'близкий',\n",
       " 8: 'блок',\n",
       " 9: 'борьба',\n",
       " 10: 'ватутин',\n",
       " 11: 'взаимодействие',\n",
       " 12: 'власть',\n",
       " 13: 'войти',\n",
       " 14: 'вячеслав',\n",
       " 15: 'генералполковник',\n",
       " 16: 'генеральный',\n",
       " 17: 'георгий',\n",
       " 18: 'гмк',\n",
       " 19: 'директор',\n",
       " 20: 'европа',\n",
       " 21: 'единогласно',\n",
       " 22: 'заместитель',\n",
       " 23: 'заседание',\n",
       " 24: 'защита',\n",
       " 25: 'иванов',\n",
       " 26: 'избрать',\n",
       " 27: 'исакович',\n",
       " 28: 'клиентский',\n",
       " 29: 'клуб',\n",
       " 30: 'конституционный',\n",
       " 31: 'корпоративный',\n",
       " 32: 'леонид',\n",
       " 33: 'лопат',\n",
       " 34: 'министр',\n",
       " 35: 'мир',\n",
       " 36: 'начальник',\n",
       " 37: 'никель',\n",
       " 38: 'новак',\n",
       " 39: 'норильский',\n",
       " 40: 'оао',\n",
       " 41: 'обсуждение',\n",
       " 42: 'округ',\n",
       " 43: 'ольга',\n",
       " 44: 'ооо',\n",
       " 45: 'орган',\n",
       " 46: 'основной',\n",
       " 47: 'пбк',\n",
       " 48: 'первый',\n",
       " 49: 'перспектива',\n",
       " 50: 'планирование',\n",
       " 51: 'плешаков',\n",
       " 52: 'политика',\n",
       " 53: 'полномочный',\n",
       " 54: 'полтавец',\n",
       " 55: 'полтавченко',\n",
       " 56: 'правительство',\n",
       " 57: 'правление',\n",
       " 58: 'председатель',\n",
       " 59: 'прессслужба',\n",
       " 60: 'принять',\n",
       " 61: 'провоторов',\n",
       " 62: 'проект',\n",
       " 63: 'развитие',\n",
       " 64: 'решение',\n",
       " 65: 'ростелеком',\n",
       " 66: 'руководитель',\n",
       " 67: 'рф',\n",
       " 68: 'седов',\n",
       " 69: 'сергей',\n",
       " 70: 'служба',\n",
       " 71: 'совет',\n",
       " 72: 'состав',\n",
       " 73: 'состояние',\n",
       " 74: 'социальный',\n",
       " 75: 'спортивный',\n",
       " 76: 'стратегия',\n",
       " 77: 'строй',\n",
       " 78: 'текущий',\n",
       " 79: 'терроризм',\n",
       " 80: 'трансаэро',\n",
       " 81: 'трёхкратный',\n",
       " 82: 'ук',\n",
       " 83: 'утверждение',\n",
       " 84: 'федеральный',\n",
       " 85: 'финансы',\n",
       " 86: 'фсб',\n",
       " 87: 'функция',\n",
       " 88: 'центральный',\n",
       " 89: 'цска',\n",
       " 90: 'чемпион',\n",
       " 91: 'эксигрок',\n",
       " 92: 'ru',\n",
       " 93: 'болельщик',\n",
       " 94: 'вести',\n",
       " 95: 'взрыв',\n",
       " 96: 'выбросить',\n",
       " 97: 'газета',\n",
       " 98: 'динамовец',\n",
       " 99: 'изз',\n",
       " 100: 'команда',\n",
       " 101: 'корреспондент',\n",
       " 102: 'кромка',\n",
       " 103: 'кубок',\n",
       " 104: 'матч',\n",
       " 105: 'минута',\n",
       " 106: 'онлайнтрансляция',\n",
       " 107: 'остановить',\n",
       " 108: 'остаться',\n",
       " 109: 'передавать',\n",
       " 110: 'петарда',\n",
       " 111: 'пиротехнический',\n",
       " 112: 'подтрибунный',\n",
       " 113: 'поле',\n",
       " 114: 'помещение',\n",
       " 115: 'приостановить',\n",
       " 116: 'пять',\n",
       " 117: 'россия',\n",
       " 118: 'снаряд',\n",
       " 119: 'судья',\n",
       " 120: 'торпедовец',\n",
       " 121: 'увести',\n",
       " 122: 'уйти',\n",
       " 123: 'финал',\n",
       " 124: 'футбол',\n",
       " 125: 'nnnn',\n",
       " 126: 'авангард',\n",
       " 127: 'атланта',\n",
       " 128: 'быстрый',\n",
       " 129: 'включиться',\n",
       " 130: 'выезд',\n",
       " 131: 'гол',\n",
       " 132: 'девять',\n",
       " 133: 'заборский',\n",
       " 134: 'забросить',\n",
       " 135: 'задать',\n",
       " 136: 'игра',\n",
       " 137: 'играть',\n",
       " 138: 'кхл',\n",
       " 139: 'настраиваться',\n",
       " 140: 'нижний',\n",
       " 141: 'новгород',\n",
       " 142: 'очко',\n",
       " 143: 'плохой',\n",
       " 144: 'поединок',\n",
       " 145: 'получиться',\n",
       " 146: 'прокомментировать',\n",
       " 147: 'против',\n",
       " 148: 'сторона',\n",
       " 149: 'темп',\n",
       " 150: 'томаш',\n",
       " 151: 'торпедо',\n",
       " 152: 'форвард',\n",
       " 153: 'хороший',\n",
       " 154: 'чемпионат',\n",
       " 155: 'афолаби',\n",
       " 156: 'бальда',\n",
       " 157: 'возможно',\n",
       " 158: 'всё',\n",
       " 159: 'второй',\n",
       " 160: 'выпустить',\n",
       " 161: 'главный',\n",
       " 162: 'го',\n",
       " 163: 'дать',\n",
       " 164: 'действительно',\n",
       " 165: 'жизнь',\n",
       " 166: 'закончить',\n",
       " 167: 'замена',\n",
       " 168: 'заменить',\n",
       " 169: 'заработать',\n",
       " 170: 'заявка',\n",
       " 171: 'здорово',\n",
       " 172: 'игрок',\n",
       " 173: 'идти',\n",
       " 174: 'конец',\n",
       " 175: 'красножанин',\n",
       " 176: 'крыло',\n",
       " 177: 'кубань',\n",
       " 178: 'лидер',\n",
       " 179: 'менее',\n",
       " 180: 'момент',\n",
       " 181: 'наверное',\n",
       " 182: 'настроение',\n",
       " 183: 'немало',\n",
       " 184: 'неплохо',\n",
       " 185: 'овладевать',\n",
       " 186: 'осложнить',\n",
       " 187: 'отпускной',\n",
       " 188: 'отсюда',\n",
       " 189: 'отыграть',\n",
       " 190: 'победа',\n",
       " 191: 'подряд',\n",
       " 192: 'позиция',\n",
       " 193: 'пока',\n",
       " 194: 'понемногу',\n",
       " 195: 'попасть',\n",
       " 196: 'попов',\n",
       " 197: 'почему',\n",
       " 198: 'пребывать',\n",
       " 199: 'преимущество',\n",
       " 200: 'привыкать',\n",
       " 201: 'самоуспокоенность',\n",
       " 202: 'сезон',\n",
       " 203: 'смочь',\n",
       " 204: 'создать',\n",
       " 205: 'спокойствие',\n",
       " 206: 'статус',\n",
       " 207: 'счёт',\n",
       " 208: 'сэ',\n",
       " 209: 'требоваться',\n",
       " 210: 'тренер',\n",
       " 211: 'тур',\n",
       " 212: 'уверенно',\n",
       " 213: 'успокаиваться',\n",
       " 214: 'хотеть',\n",
       " 215: 'целое',\n",
       " 216: 'частично',\n",
       " 217: 'чувствовать',\n",
       " 218: 'юрий',\n",
       " 219: 'балан',\n",
       " 220: 'вицегубернатор',\n",
       " 221: 'вицепрезидент',\n",
       " 222: 'владивостокский',\n",
       " 223: 'владимир',\n",
       " 224: 'дальневосточный',\n",
       " 225: 'должность',\n",
       " 226: 'занимать',\n",
       " 227: 'информировать',\n",
       " 228: 'край',\n",
       " 229: 'менеджер',\n",
       " 230: 'насонов',\n",
       " 231: 'оставаться',\n",
       " 232: 'официальный',\n",
       " 233: 'попечительский',\n",
       " 234: 'попрежний',\n",
       " 235: 'пост',\n",
       " 236: 'приморский',\n",
       " 237: 'сайт',\n",
       " 238: 'сандлера',\n",
       " 239: 'спартак',\n",
       " 240: 'упразднить',\n",
       " 241: 'член',\n",
       " 242: 'эдуард',\n",
       " 243: 'буцай',\n",
       " 244: 'входить',\n",
       " 245: 'гдеть',\n",
       " 246: 'главное',\n",
       " 247: 'дневный',\n",
       " 248: 'долго',\n",
       " 249: 'дотерпеть',\n",
       " 250: 'заслуженно',\n",
       " 251: 'ио',\n",
       " 252: 'начинаться',\n",
       " 253: 'непривычный',\n",
       " 254: 'очень',\n",
       " 255: 'период',\n",
       " 256: 'плюс',\n",
       " 257: 'победить',\n",
       " 258: 'поблагодарить',\n",
       " 259: 'показать',\n",
       " 260: 'появиться',\n",
       " 261: 'правильно',\n",
       " 262: 'прежде',\n",
       " 263: 'пропустить',\n",
       " 264: 'разбежаться',\n",
       " 265: 'ребята',\n",
       " 266: 'регулярный',\n",
       " 267: 'связать',\n",
       " 268: 'сибирь',\n",
       " 269: 'скажем',\n",
       " 270: 'смена',\n",
       " 271: 'сонный',\n",
       " 272: 'третий',\n",
       " 273: 'удачно',\n",
       " 274: 'югра',\n",
       " 275: 'будник',\n",
       " 276: 'ворскла',\n",
       " 277: 'встреча',\n",
       " 278: 'голый',\n",
       " 279: 'громов',\n",
       " 280: 'дом',\n",
       " 281: 'завершиться',\n",
       " 282: 'запорожский',\n",
       " 283: 'материал',\n",
       " 284: 'металлург',\n",
       " 285: 'новость',\n",
       " 286: 'поражение',\n",
       " 287: 'посмотреть',\n",
       " 288: 'потерпеть',\n",
       " 289: 'разгромный',\n",
       " 290: 'страница',\n",
       " 291: 'украина',\n",
       " 292: 'украинский',\n",
       " 293: 'чеснаковы',\n",
       " 294: 'австрия',\n",
       " 295: 'бол',\n",
       " 296: 'бьюгстадо',\n",
       " 297: 'вельзер',\n",
       " 298: 'день',\n",
       " 299: 'джонсон',\n",
       " 300: 'иберер',\n",
       " 301: 'игровой',\n",
       " 302: 'кристо',\n",
       " 303: 'латуз',\n",
       " 304: 'леблан',\n",
       " 305: 'лукас',\n",
       " 306: 'макбэйн',\n",
       " 307: 'мосс',\n",
       " 308: 'одержать',\n",
       " 309: 'пайнтнер',\n",
       " 310: 'палушать',\n",
       " 311: 'сборная',\n",
       " 312: 'стартовый',\n",
       " 313: 'стэплтон',\n",
       " 314: 'сша',\n",
       " 315: 'фолкнуть',\n",
       " 316: 'хоккей',\n",
       " 317: 'хундертпфунда',\n",
       " 318: 'штястный',\n",
       " 319: 'шуллера',\n",
       " 320: 'больший',\n",
       " 321: 'бывший',\n",
       " 322: 'взять',\n",
       " 323: 'внести',\n",
       " 324: 'вырасти',\n",
       " 325: 'выступление',\n",
       " 326: 'дарюс',\n",
       " 327: 'защитник',\n",
       " 328: 'илья',\n",
       " 329: 'илюха',\n",
       " 330: 'каспарайтис',\n",
       " 331: 'качество',\n",
       " 332: 'ковальчук',\n",
       " 333: 'латвия',\n",
       " 334: 'малкин',\n",
       " 335: 'национальный',\n",
       " 336: 'ожидание',\n",
       " 337: 'ознакомиться',\n",
       " 338: 'поделиться',\n",
       " 339: 'пойти',\n",
       " 340: 'последний',\n",
       " 341: 'потрясающе',\n",
       " 342: 'прошлый',\n",
       " 343: 'сильно',\n",
       " 344: 'статистика',\n",
       " 345: 'выиграть',\n",
       " 346: 'данил',\n",
       " 347: 'делать',\n",
       " 348: 'добиться',\n",
       " 349: 'думать',\n",
       " 350: 'жиляев',\n",
       " 351: 'завтра',\n",
       " 352: 'зоран',\n",
       " 353: 'известно',\n",
       " 354: 'исполниться',\n",
       " 355: 'капитан',\n",
       " 356: 'касаться',\n",
       " 357: 'крупный',\n",
       " 358: 'надеяться',\n",
       " 359: 'подарок',\n",
       " 360: 'пожелать',\n",
       " 361: 'полузащитник',\n",
       " 362: 'произнести',\n",
       " 363: 'просто',\n",
       " 364: 'речь',\n",
       " 365: 'сделать',\n",
       " 366: 'сербский',\n",
       " 367: 'серьёзный',\n",
       " 368: 'слуцкий',\n",
       " 369: 'терек',\n",
       " 370: 'тошич',\n",
       " 371: 'травма',\n",
       " 372: 'удачный',\n",
       " 373: 'ушибить',\n",
       " 374: 'характер',\n",
       " 375: 'хромать',\n",
       " 376: 'чемпионство',\n",
       " 377: 'шаг',\n",
       " 378: 'барселона',\n",
       " 379: 'бетис',\n",
       " 380: 'вальдес',\n",
       " 381: 'виктор',\n",
       " 382: 'воспаление',\n",
       " 383: 'вратарь',\n",
       " 384: 'испания',\n",
       " 385: 'каталонец',\n",
       " 386: 'кость',\n",
       " 387: 'левый',\n",
       " 388: 'нога',\n",
       " 389: 'подошвенный',\n",
       " 390: 'стопа',\n",
       " 391: 'фасциит',\n",
       " 392: 'анастасия',\n",
       " 393: 'испанка',\n",
       " 394: 'карл',\n",
       " 395: 'обыграть',\n",
       " 396: 'оэйраша',\n",
       " 397: 'павлюченков',\n",
       " 398: 'победительница',\n",
       " 399: 'призовой',\n",
       " 400: 'решающий',\n",
       " 401: 'россиянка',\n",
       " 402: 'суареснаварро',\n",
       " 403: 'теннис',\n",
       " 404: 'турнир',\n",
       " 405: 'тыс',\n",
       " 406: 'фонд',\n",
       " 407: 'nnn',\n",
       " 408: 'анжи',\n",
       " 409: 'бедро',\n",
       " 410: 'вернуться',\n",
       " 411: 'волга',\n",
       " 412: 'задний',\n",
       " 413: 'ивуариец',\n",
       " 414: 'казанский',\n",
       " 415: 'лассина',\n",
       " 416: 'махачкала',\n",
       " 417: 'нападать',\n",
       " 418: 'общий',\n",
       " 419: 'поверхность',\n",
       " 420: 'премьерлига',\n",
       " 421: 'рамка',\n",
       " 422: 'российский',\n",
       " 423: 'рубин',\n",
       " 424: 'траор',\n",
       " 425: 'тренировка',\n",
       " 426: 'бохара',\n",
       " 427: 'железнодорожник',\n",
       " 428: 'завершить',\n",
       " 429: 'касейдо',\n",
       " 430: 'контрольный',\n",
       " 431: 'кучук',\n",
       " 432: 'локомотив',\n",
       " 433: 'марибора',\n",
       " 434: 'местный',\n",
       " 435: 'металлист',\n",
       " 436: 'московский',\n",
       " 437: 'подопечный',\n",
       " 438: 'предупреждеие',\n",
       " 439: 'проиграть',\n",
       " 440: 'сбор',\n",
       " 441: 'следующий',\n",
       " 442: 'словения',\n",
       " 443: 'соперник',\n",
       " 444: 'таварес',\n",
       " 445: 'торбинский',\n",
       " 446: 'учебнотренировочный',\n",
       " 447: 'харьковский',\n",
       " 448: 'хорватский',\n",
       " 449: 'natp',\n",
       " 450: 'важный',\n",
       " 451: 'возраст',\n",
       " 452: 'возрастной',\n",
       " 453: 'вокруг',\n",
       " 454: 'вообще',\n",
       " 455: 'врач',\n",
       " 456: 'далёкий',\n",
       " 457: 'действовать',\n",
       " 458: 'джокович',\n",
       " 459: 'достаточно',\n",
       " 460: 'желание',\n",
       " 461: 'круг',\n",
       " 462: 'мнение',\n",
       " 463: 'множество',\n",
       " 464: 'мудрость',\n",
       " 465: 'начинать',\n",
       " 466: 'немец',\n",
       " 467: 'нужно',\n",
       " 468: 'оно',\n",
       " 469: 'опыт',\n",
       " 470: 'оценивать',\n",
       " 471: 'питание',\n",
       " 472: 'позволять',\n",
       " 473: 'понимать',\n",
       " 474: 'правило',\n",
       " 475: 'правильный',\n",
       " 476: 'приводить',\n",
       " 477: 'ракетка',\n",
       " 478: 'сила',\n",
       " 479: 'собирать',\n",
       " 480: 'согласно',\n",
       " 481: 'специалист',\n",
       " 482: 'существовать',\n",
       " 483: 'сыграть',\n",
       " 484: 'теннисист',\n",
       " 485: 'ти',\n",
       " 486: 'томми',\n",
       " 487: 'трезво',\n",
       " 488: 'уимблдон',\n",
       " 489: 'успех',\n",
       " 490: 'фактор',\n",
       " 491: 'физиотерапевт',\n",
       " 492: 'форма',\n",
       " 493: 'хаас',\n",
       " 494: 'четвёртый',\n",
       " 495: 'гомис',\n",
       " 496: 'груда',\n",
       " 497: 'дюмерс',\n",
       " 498: 'женский',\n",
       " 499: 'литтл',\n",
       " 500: 'место',\n",
       " 501: 'одолеть',\n",
       " 502: 'орша',\n",
       " 503: 'сербия',\n",
       " 504: 'торренс',\n",
       " 505: 'турция',\n",
       " 506: 'франция',\n",
       " 507: 'французский',\n",
       " 508: 'шаргай',\n",
       " 509: 'ncbsnn',\n",
       " 510: 'агент',\n",
       " 511: 'айлендерс',\n",
       " 512: 'взамен',\n",
       " 513: 'выбрать',\n",
       " 514: 'драфт',\n",
       " 515: 'клаттербак',\n",
       " 516: 'количество',\n",
       " 517: 'контракт',\n",
       " 518: 'кэла',\n",
       " 519: 'летний',\n",
       " 520: 'миннесота',\n",
       " 521: 'минувший',\n",
       " 522: 'молодой',\n",
       " 523: 'набрать',\n",
       " 524: 'нидеррайтер',\n",
       " 525: 'нино',\n",
       " 526: 'новый',\n",
       " 527: 'номер',\n",
       " 528: 'нхл',\n",
       " 529: 'обменять',\n",
       " 530: 'ограниченно',\n",
       " 531: 'островитянин',\n",
       " 532: 'переходить',\n",
       " 533: 'поэтому',\n",
       " 534: 'приём',\n",
       " 535: 'пятый',\n",
       " 536: 'свободный',\n",
       " 537: 'силовой',\n",
       " 538: 'nnjcomn',\n",
       " 539: 'активный',\n",
       " 540: 'бродый',\n",
       " 541: 'ванкувер',\n",
       " 542: 'выбор',\n",
       " 543: 'голкипер',\n",
       " 544: 'девятый',\n",
       " 545: 'дьявол',\n",
       " 546: 'завершение',\n",
       " 547: 'итоговый',\n",
       " 548: 'канадский',\n",
       " 549: 'карьера',\n",
       " 550: 'корь',\n",
       " 551: 'кэнакс',\n",
       " 552: 'луонго',\n",
       " 553: 'мартин',\n",
       " 554: 'многоопытный',\n",
       " 555: 'найти',\n",
       " 556: 'ньюджерси',\n",
       " 557: 'обмен',\n",
       " 558: 'покинуть',\n",
       " 559: 'призвать',\n",
       " 560: 'пристанище',\n",
       " 561: 'раунд',\n",
       " 562: 'роберто',\n",
       " 563: 'солидный',\n",
       " 564: 'удаться',\n",
       " 565: 'шнайдер',\n",
       " 566: 'nsportsrun',\n",
       " 567: 'аккуратный',\n",
       " 568: 'беспокоить',\n",
       " 569: 'большой',\n",
       " 570: 'видеть',\n",
       " 571: 'десять',\n",
       " 572: 'динамо',\n",
       " 573: 'достойно',\n",
       " 574: 'заслуживать',\n",
       " 575: 'зенит',\n",
       " 576: 'киевлянин',\n",
       " 577: 'киевский',\n",
       " 578: 'кондиция',\n",
       " 579: 'лучано',\n",
       " 580: 'мешать',\n",
       " 581: 'назад',\n",
       " 582: 'например',\n",
       " 583: 'начать',\n",
       " 584: 'неприятно',\n",
       " 585: 'объединить',\n",
       " 586: 'отличие',\n",
       " 587: 'подготовка',\n",
       " 588: 'проигрывать',\n",
       " 589: 'происходить',\n",
       " 590: 'ранний',\n",
       " 591: 'семь',\n",
       " 592: 'спаллетти',\n",
       " 593: 'сражаться',\n",
       " 594: 'травмироваться',\n",
       " 595: 'увидеть',\n",
       " 596: 'улучшение',\n",
       " 597: 'физический',\n",
       " 598: 'хотя',\n",
       " 599: 'широков',\n",
       " 600: 'алвес',\n",
       " 601: 'альба',\n",
       " 602: 'арбелоа',\n",
       " 603: 'бразилия',\n",
       " 604: 'бразильский',\n",
       " 605: 'бускетс',\n",
       " 606: 'давид',\n",
       " 607: 'дань',\n",
       " 608: 'жулио',\n",
       " 609: 'иньест',\n",
       " 610: 'касильяс',\n",
       " 611: 'конфедерация',\n",
       " 612: 'луис',\n",
       " 613: 'маракан',\n",
       " 614: 'марио',\n",
       " 615: 'марсесть',\n",
       " 616: 'мат',\n",
       " 617: 'мск',\n",
       " 618: 'неймара',\n",
       " 619: 'оскар',\n",
       " 620: 'паулиньо',\n",
       " 621: 'педро',\n",
       " 622: 'пик',\n",
       " 623: 'прямой',\n",
       " 624: 'рамос',\n",
       " 625: 'риодежанейро',\n",
       " 626: 'сезара',\n",
       " 627: 'силва',\n",
       " 628: 'состояться',\n",
       " 629: 'стадион',\n",
       " 630: 'текстовый',\n",
       " 631: 'торрес',\n",
       " 632: 'тьяго',\n",
       " 633: 'филья',\n",
       " 634: 'финальный',\n",
       " 635: 'фред',\n",
       " 636: 'хавить',\n",
       " 637: 'халк',\n",
       " 638: 'эрнанести',\n",
       " 639: 'абсолютный',\n",
       " 640: 'ажиотаж',\n",
       " 641: 'алла',\n",
       " 642: 'борисович',\n",
       " 643: 'вид',\n",
       " 644: 'владелец',\n",
       " 645: 'выразить',\n",
       " 646: 'высказывание',\n",
       " 647: 'газзаев',\n",
       " 648: 'господин',\n",
       " 649: 'дабы',\n",
       " 650: 'деньга',\n",
       " 651: 'дорогой',\n",
       " 652: 'зато',\n",
       " 653: 'идея',\n",
       " 654: 'иностранец',\n",
       " 655: 'легионер',\n",
       " 656: 'лимит',\n",
       " 657: 'любимый',\n",
       " 658: 'намерить',\n",
       " 659: 'несерьёзно',\n",
       " 660: 'никто',\n",
       " 661: 'оба',\n",
       " 662: 'объединение',\n",
       " 663: 'организатор',\n",
       " 664: 'оргкомитет',\n",
       " 665: 'относительно',\n",
       " 666: 'перестать',\n",
       " 667: 'петь',\n",
       " 668: 'позитив',\n",
       " 669: 'построение',\n",
       " 670: 'потерять',\n",
       " 671: 'предлагать',\n",
       " 672: 'привести',\n",
       " 673: 'принцип',\n",
       " 674: 'приобрести',\n",
       " 675: 'приходить',\n",
       " 676: 'проводить',\n",
       " 677: 'произойти',\n",
       " 678: 'проституировать',\n",
       " 679: 'противоречить',\n",
       " 680: 'прямо',\n",
       " 681: 'пугачёв',\n",
       " 682: 'пусть',\n",
       " 683: 'разговор',\n",
       " 684: 'рфс',\n",
       " 685: 'свидетельствовать',\n",
       " 686: 'свобода',\n",
       " 687: 'скорее',\n",
       " 688: 'собираться',\n",
       " 689: 'советский',\n",
       " 690: 'спасение',\n",
       " 691: 'спорт',\n",
       " 692: 'сразу',\n",
       " 693: 'стороженко',\n",
       " 694: 'сторонник',\n",
       " 695: 'тонуть',\n",
       " 696: 'тысяча',\n",
       " 697: 'убийство',\n",
       " 698: 'уничтожение',\n",
       " 699: 'федерация',\n",
       " 700: 'ффу',\n",
       " 701: 'ходить',\n",
       " 702: 'черта',\n",
       " 703: 'юношеский',\n",
       " 704: 'бегать',\n",
       " 705: 'блохин',\n",
       " 706: 'временами',\n",
       " 707: 'всетаки',\n",
       " 708: 'вчера',\n",
       " 709: 'выглядеть',\n",
       " 710: 'зритель',\n",
       " 711: 'километраж',\n",
       " 712: 'маленький',\n",
       " 713: 'меняться',\n",
       " 714: 'нагрузка',\n",
       " 715: 'нужный',\n",
       " 716: 'объём',\n",
       " 717: 'олег',\n",
       " 718: 'план',\n",
       " 719: 'поехать',\n",
       " 720: 'поздравлять',\n",
       " 721: 'показывать',\n",
       " 722: 'покупать',\n",
       " 723: 'проявлять',\n",
       " 724: 'роль',\n",
       " 725: 'сбрасывать',\n",
       " 726: 'ставить',\n",
       " 727: 'столько',\n",
       " 728: 'стремиться',\n",
       " 729: 'тактика',\n",
       " 730: 'тяжёлый',\n",
       " 731: 'украинец',\n",
       " 732: 'уровень',\n",
       " 733: 'усталость',\n",
       " 734: 'установка',\n",
       " 735: 'чемуть',\n",
       " 736: 'анатолий',\n",
       " 737: 'аршавин',\n",
       " 738: 'аршавино',\n",
       " 739: 'безнадёжно',\n",
       " 740: 'бойцовский',\n",
       " 741: 'видно',\n",
       " 742: 'возвращение',\n",
       " 743: 'впечатление',\n",
       " 744: 'вряд',\n",
       " 745: 'встретить',\n",
       " 746: 'довольный',\n",
       " 747: 'дух',\n",
       " 748: 'знакомство',\n",
       " 749: 'мастерство',\n",
       " 750: 'набирать',\n",
       " 751: 'начаться',\n",
       " 752: 'небольшой',\n",
       " 753: 'некоторый',\n",
       " 754: 'никуда',\n",
       " 755: 'опытный',\n",
       " 756: 'положительный',\n",
       " 757: 'понятно',\n",
       " 758: 'приятно',\n",
       " 759: 'проблема',\n",
       " 760: 'профессионализм',\n",
       " 761: 'реакция',\n",
       " 762: 'русский',\n",
       " 763: 'тимощука',\n",
       " 764: 'удача',\n",
       " 765: 'уста',\n",
       " 766: 'человеческий',\n",
       " 767: 'возвращаться',\n",
       " 768: 'впереди',\n",
       " 769: 'вывод',\n",
       " 770: 'жаль',\n",
       " 771: 'заметно',\n",
       " 772: 'ломбертс',\n",
       " 773: 'мяч',\n",
       " 774: 'неплохой',\n",
       " 775: 'непросто',\n",
       " 776: 'николас',\n",
       " 777: 'особенно',\n",
       " 778: 'отдавать',\n",
       " 779: 'отличный',\n",
       " 780: 'половина',\n",
       " 781: 'свежий',\n",
       " 782: 'старт',\n",
       " 783: 'стоить',\n",
       " 784: 'тайм',\n",
       " 785: 'тренироваться',\n",
       " 786: 'тренировочный',\n",
       " 787: 'устать',\n",
       " 788: 'футболист',\n",
       " 789: 'частый',\n",
       " 790: 'nationn',\n",
       " 791: 'nsb',\n",
       " 792: 'америка',\n",
       " 793: 'амрия',\n",
       " 794: 'баффало',\n",
       " 795: 'выступать',\n",
       " 796: 'задор',\n",
       " 797: 'затем',\n",
       " 798: 'красный',\n",
       " 799: 'лига',\n",
       " 800: 'лондон',\n",
       " 801: 'мхл',\n",
       " 802: 'найтс',\n",
       " 803: 'никита',\n",
       " 804: 'новичок',\n",
       " 805: 'онтарио',\n",
       " 806: 'северный',\n",
       " 807: 'уехать',\n",
       " 808: 'хоккеист',\n",
       " 809: 'хоккейный',\n",
       " 810: 'аплодировать',\n",
       " 811: 'армянский',\n",
       " 812: 'бавария',\n",
       " 813: 'биться',\n",
       " 814: 'бомбардир',\n",
       " 815: 'генрих',\n",
       " 816: 'горняк',\n",
       " 817: 'действие',\n",
       " 818: 'демонстрировать',\n",
       " 819: 'донецкий',\n",
       " 820: 'забивать',\n",
       " 821: 'заявление',\n",
       " 822: 'иной',\n",
       " 823: 'исчезнуть',\n",
       " 824: 'каждый',\n",
       " 825: 'какиеть',\n",
       " 826: 'комментировать',\n",
       " 827: 'ливерпуль',\n",
       " 828: 'лучёска',\n",
       " 829: 'мадридский',\n",
       " 830: 'менять',\n",
       " 831: 'мирча',\n",
       " 832: 'мхитарян',\n",
       " 833: 'опуститься',\n",
       " 834: 'остальной',\n",
       " 835: 'отпуск',\n",
       " 836: 'оценить',\n",
       " 837: 'ошибка',\n",
       " 838: 'переговоры',\n",
       " 839: 'переход',\n",
       " 840: 'подумать',\n",
       " 841: 'помогать',\n",
       " 842: 'понять',\n",
       " 843: 'появляться',\n",
       " 844: 'превосходить',\n",
       " 845: 'призывать',\n",
       " 846: 'продлить',\n",
       " 847: 'реал',\n",
       " 848: 'редко',\n",
       " 849: 'руководство',\n",
       " 850: 'самовольно',\n",
       " 851: 'сильный',\n",
       " 852: 'совершать',\n",
       " 853: 'спина',\n",
       " 854: 'травмировать',\n",
       " 855: 'хотеться',\n",
       " 856: 'шахтёр',\n",
       " 857: 'штрафной',\n",
       " 858: 'бельханда',\n",
       " 859: 'вживую',\n",
       " 860: 'впервые',\n",
       " 861: 'джермейн',\n",
       " 862: 'добавить',\n",
       " 863: 'дьемерси',\n",
       " 864: 'интересно',\n",
       " 865: 'интересный',\n",
       " 866: 'краска',\n",
       " 867: 'ленс',\n",
       " 868: 'мбокани',\n",
       " 869: 'официально',\n",
       " 870: 'перерыв',\n",
       " 871: 'представить',\n",
       " 872: 'юнести',\n",
       " 873: 'адам',\n",
       " 874: 'аз',\n",
       " 875: 'аякс',\n",
       " 876: 'вицечемпион',\n",
       " 877: 'голландия',\n",
       " 878: 'достигнуть',\n",
       " 879: 'забить',\n",
       " 880: 'заинтересованный',\n",
       " 881: 'махер',\n",
       " 882: 'молодёжный',\n",
       " 883: 'отдать',\n",
       " 884: 'передача',\n",
       " 885: 'подписать',\n",
       " 886: 'помимо',\n",
       " 887: 'принципиальный',\n",
       " 888: 'псв',\n",
       " 889: 'рассчитать',\n",
       " 890: 'результативный',\n",
       " 891: 'соглашение',\n",
       " 892: 'трансфер',\n",
       " 893: 'выкладываться',\n",
       " 894: 'выходить',\n",
       " 895: 'забывать',\n",
       " 896: 'качественный',\n",
       " 897: 'концентрация',\n",
       " 898: 'любой',\n",
       " 899: 'могилевец',\n",
       " 900: 'независимо',\n",
       " 901: 'неофициальный',\n",
       " 902: 'новинка',\n",
       " 903: 'обидно',\n",
       " 904: 'павел',\n",
       " 905: 'правда',\n",
       " 906: 'прийти',\n",
       " 907: 'реализация',\n",
       " 908: 'соревнование',\n",
       " 909: 'стараться',\n",
       " 910: 'сто',\n",
       " 911: 'хватить',\n",
       " 912: 'шанс',\n",
       " 913: 'эмоция',\n",
       " 914: 'значит',\n",
       " 915: 'полный',\n",
       " 916: 'преддрафтовый',\n",
       " 917: 'признаться',\n",
       " 918: 'равно',\n",
       " 919: 'страшный',\n",
       " 920: 'сюрприз',\n",
       " 921: 'тест',\n",
       " 922: 'торонто',\n",
       " 923: 'nyahoosportsn',\n",
       " 924: 'будущее',\n",
       " 925: 'вариант',\n",
       " 926: 'возможный',\n",
       " 927: 'гиллис',\n",
       " 928: 'движение',\n",
       " 929: 'именно',\n",
       " 930: 'искать',\n",
       " 931: 'курс',\n",
       " 932: 'майк',\n",
       " 933: 'молодёжь',\n",
       " 934: 'необходимо',\n",
       " 935: 'перспективный',\n",
       " 936: 'постоянно',\n",
       " 937: 'постоянный',\n",
       " 938: 'предложение',\n",
       " 939: 'прекрасный',\n",
       " 940: 'приспосабливаться',\n",
       " 941: 'причина',\n",
       " 942: 'различный',\n",
       " 943: 'рассматривать',\n",
       " 944: 'рынок',\n",
       " 945: 'случиться',\n",
       " 946: 'слушать',\n",
       " 947: 'событие',\n",
       " 948: 'трансферный',\n",
       " 949: 'уверенный',\n",
       " 950: 'чтоть',\n",
       " 951: 'балл',\n",
       " 952: 'джей',\n",
       " 953: 'дженять',\n",
       " 954: 'заполучить',\n",
       " 955: 'использовать',\n",
       " 956: 'каролина',\n",
       " 957: 'клинок',\n",
       " 958: 'комфер',\n",
       " 959: 'направление',\n",
       " 960: 'обратный',\n",
       " 961: 'право',\n",
       " 962: 'проследовать',\n",
       " 963: 'секер',\n",
       " 964: 'блэкхоукс',\n",
       " 965: 'болланд',\n",
       " 966: 'двукратный',\n",
       " 967: 'дэйв',\n",
       " 968: 'нынешний',\n",
       " 969: 'обладатель',\n",
       " 970: 'плейофф',\n",
       " 971: 'присоединиться',\n",
       " 972: 'стэнли',\n",
       " 973: 'чикаго',\n",
       " 974: 'чикагский',\n",
       " 975: 'ntwittern',\n",
       " 976: 'австрийский',\n",
       " 977: 'выходной',\n",
       " 978: 'дагестанский',\n",
       " 979: 'денисов',\n",
       " 980: 'игорь',\n",
       " 981: 'ирднинга',\n",
       " 982: 'леоганг',\n",
       " 983: 'махачкалинский',\n",
       " 984: 'окончание',\n",
       " 985: 'прибыть',\n",
       " 986: 'расположение',\n",
       " 987: 'согласовать',\n",
       " 988: 'условие',\n",
       " 989: 'эксполузащитник',\n",
       " 990: 'болеть',\n",
       " 991: 'буффон',\n",
       " 992: 'вратарский',\n",
       " 993: 'дасаев',\n",
       " 994: 'детство',\n",
       " 995: 'кан',\n",
       " 996: 'коллега',\n",
       " 997: 'нигматуллин',\n",
       " 998: 'нравиться',\n",
       " 999: 'оливер',\n",
       " ...}"
      ]
     },
     "execution_count": 184,
     "metadata": {
      "tags": []
     },
     "output_type": "execute_result"
    }
   ],
   "source": [
    "common_dictionary.id2token"
   ]
  },
  {
   "cell_type": "markdown",
   "metadata": {
    "id": "YKkuzl96nZ4f"
   },
   "source": [
    "Делаем BoW по списку слов"
   ]
  },
  {
   "cell_type": "code",
   "execution_count": 95,
   "metadata": {
    "colab": {
     "base_uri": "https://localhost:8080/"
    },
    "id": "QAalxqanm95I",
    "outputId": "06f4a30e-2db1-4597-d496-196ba48f7460"
   },
   "outputs": [
    {
     "data": {
      "text/plain": [
       "[(6, 2), (141166, 1), (141167, 1)]"
      ]
     },
     "execution_count": 95,
     "metadata": {
      "tags": []
     },
     "output_type": "execute_result"
    }
   ],
   "source": [
    "common_dictionary.doc2bow(['баскетбол' ,'баскетбол' ,'наше', 'все'], allow_update=True)"
   ]
  },
  {
   "cell_type": "code",
   "execution_count": 96,
   "metadata": {
    "colab": {
     "base_uri": "https://localhost:8080/"
    },
    "id": "JSf5rfLjROW7",
    "outputId": "0404c4b0-95ef-468d-fd69-7063bafa9748"
   },
   "outputs": [
    {
     "data": {
      "text/plain": [
       "(0, 5)"
      ]
     },
     "execution_count": 96,
     "metadata": {
      "tags": []
     },
     "output_type": "execute_result"
    }
   ],
   "source": [
    "common_corpus[0][0]"
   ]
  },
  {
   "cell_type": "code",
   "execution_count": 97,
   "metadata": {
    "colab": {
     "base_uri": "https://localhost:8080/"
    },
    "id": "mcQAiY4kRlAW",
    "outputId": "72db898e-763b-45f1-8ff2-d3612e9c79a7"
   },
   "outputs": [
    {
     "data": {
      "text/plain": [
       "118"
      ]
     },
     "execution_count": 97,
     "metadata": {
      "tags": []
     },
     "output_type": "execute_result"
    }
   ],
   "source": [
    "len(texts[0])"
   ]
  },
  {
   "cell_type": "markdown",
   "metadata": {
    "id": "jrkMUNueMIGv"
   },
   "source": [
    "Все просто - это словарь наших слов"
   ]
  },
  {
   "cell_type": "markdown",
   "metadata": {
    "id": "LksYgmAqMIGw"
   },
   "source": [
    "Запускаем обучение"
   ]
  },
  {
   "cell_type": "code",
   "execution_count": 98,
   "metadata": {
    "id": "vcBROvtBkGix"
   },
   "outputs": [],
   "source": [
    "N_topic = 15 # число тем - гиперпараметр"
   ]
  },
  {
   "cell_type": "code",
   "execution_count": 99,
   "metadata": {
    "colab": {
     "base_uri": "https://localhost:8080/"
    },
    "id": "xtKgOLXzMIGw",
    "outputId": "2b0a39f5-8936-421b-cfa0-4c7102a1cdf2"
   },
   "outputs": [
    {
     "name": "stdout",
     "output_type": "stream",
     "text": [
      "CPU times: user 41.3 s, sys: 16.1 s, total: 57.5 s\n",
      "Wall time: 39.6 s\n"
     ]
    }
   ],
   "source": [
    "%%time\n",
    "from gensim.models import LdaModel\n",
    "# Train the model on the corpus.\n",
    "lda = LdaModel(common_corpus, num_topics=N_topic, id2word=common_dictionary)#, passes=10)"
   ]
  },
  {
   "cell_type": "code",
   "execution_count": 100,
   "metadata": {
    "id": "IyVZ-spdMIGx"
   },
   "outputs": [],
   "source": [
    "from gensim.test.utils import datapath\n",
    "# Save model to disk.\n",
    "temp_file = datapath(\"model.lda\")\n",
    "lda.save(temp_file)\n",
    "\n",
    "# Load a potentially pretrained model from disk.\n",
    "lda = LdaModel.load(temp_file)"
   ]
  },
  {
   "cell_type": "markdown",
   "metadata": {
    "id": "ZshpqNKwMIGx"
   },
   "source": [
    "Обучили модель. Теперь 2 вопроса:\n",
    "\n",
    "1. как выглядят наши темы\n",
    "2. как получить для документа вектор значений (вероятности принадлежности каждой теме)"
   ]
  },
  {
   "cell_type": "code",
   "execution_count": 101,
   "metadata": {
    "colab": {
     "base_uri": "https://localhost:8080/"
    },
    "id": "-stkuTDxMIGy",
    "outputId": "5a069fff-9aec-4cfa-ba26-83bb0d40a778"
   },
   "outputs": [
    {
     "name": "stdout",
     "output_type": "stream",
     "text": [
      "['форвард', 'авангард', 'томаш', 'заборский', 'прокомментировать', 'игра', 'команда', 'матч', 'чемпионат', 'кхл', 'против', 'атланта', 'nnnn', 'плохой', 'матч', 'нижний', 'новгород', 'против', 'торпедо', 'настраиваться', 'первый', 'минута', 'включиться', 'заборский', 'получиться', 'забросить', 'быстрый', 'гол', 'задать', 'хороший', 'темп', 'поединок', 'играть', 'хороший', 'сторона', 'пять', 'очко', 'выезд', 'девять', 'хороший']\n"
     ]
    },
    {
     "data": {
      "text/plain": [
       "[(2, 0.41797298), (13, 0.56088877)]"
      ]
     },
     "execution_count": 101,
     "metadata": {
      "tags": []
     },
     "output_type": "execute_result"
    }
   ],
   "source": [
    "# Create a new corpus, made of previously unseen documents.\n",
    "other_texts = [t for t in news['title'].iloc[:3]]\n",
    "other_corpus = [common_dictionary.doc2bow(text) for text in other_texts]\n",
    "\n",
    "unseen_doc = other_corpus[2]\n",
    "print(other_texts[2])\n",
    "lda[unseen_doc] "
   ]
  },
  {
   "cell_type": "code",
   "execution_count": 241,
   "metadata": {
    "id": "kECXtXRgzPXB"
   },
   "outputs": [],
   "source": [
    "from sklearn.feature_extraction.text import TfidfTransformer\n"
   ]
  },
  {
   "cell_type": "code",
   "execution_count": 242,
   "metadata": {
    "id": "Qlyz7I-0zQ7I"
   },
   "outputs": [],
   "source": [
    "tfidf = TfidfTransformer(unseen_doc)\n"
   ]
  },
  {
   "cell_type": "code",
   "execution_count": 102,
   "metadata": {
    "colab": {
     "base_uri": "https://localhost:8080/"
    },
    "id": "Bbxd48b_MIGz",
    "outputId": "40374db2-7f50-40e2-8fb3-d49523c13a2a"
   },
   "outputs": [
    {
     "name": "stdout",
     "output_type": "stream",
     "text": [
      "topic_0: россия российский правительство рубль банк глава nn сша система санкция проект государство экономический государственный рф\n",
      "topic_1: самолёт корабль российский сша россия космический аппарат спутник экипаж сила операция полёт сторона море войско\n",
      "topic_2: всё новый исследование большой научный очень рынок уровень проблема первый учёный например иметь поэтому сделать\n",
      "topic_3: земля ракета северный взрыв первый температура поверхность рак запуск участок сша американский планета торговый проект\n",
      "topic_4: тыс млн конкурс выяснить стоимость мужчина цена ступень продолжительность обвинение якобы nn супруг определение продажа\n",
      "topic_5: nn мозг ребёнок исследование автор университет помощь жизнь опубликовать статья найти дом женщина белый изучение\n",
      "topic_6: млрд млн фонд россия гражданин рост население турист составить доход nn россиянин министерство руб доллар\n",
      "topic_7: пациент заболевание врач клетка египет дональд лечение фронт опухоль исследование геном продукция гражданин ткань бактерия\n",
      "topic_8: учёный власть территория ребёнок nn первый участник смерть космос опубликовать россия установить музей новый космический\n",
      "topic_9: сотрудник nn уголовный задержать убийство следствие чиновник рф служба полицейский бывший украинский первый ск преступление\n",
      "topic_10: газ украина москва цена область россия nn исследователь тело решение данные век статья млрд обнаружить\n",
      "topic_11: военный россия армия российский nn фестиваль день первый белоруссия американский космонавт сша восточный ссср ветер\n",
      "topic_12: погибнуть луна журнал nn мкс женщина место алкоголь обвинить огонь первый памятник компьютер среди мужчина\n",
      "topic_13: эксперимент писать товар запустить отряд разместить затмение снизить прогнозировать особенность первый тепло повышать лёд игра\n",
      "topic_14: учёный исследователь район животное обнаружить выяснить nn пострадать произойти часть день данные назад американский самолёт\n"
     ]
    }
   ],
   "source": [
    "x=lda.show_topics(num_topics=N_topic, num_words=15,formatted=False)\n",
    "topics_words = [(tp[0], [wd[0] for wd in tp[1]]) for tp in x]\n",
    "\n",
    "#Below Code Prints Only Words \n",
    "for topic,words in topics_words:\n",
    "    print(\"topic_{}: \".format(topic)+\" \".join(words))"
   ]
  },
  {
   "cell_type": "markdown",
   "metadata": {
    "id": "gBlxgTZoMIG0"
   },
   "source": [
    "Очень неплохо - большинство тем вполне можно описать о чем они\n",
    "\n",
    "\n",
    "построим темы "
   ]
  },
  {
   "cell_type": "code",
   "execution_count": 103,
   "metadata": {
    "colab": {
     "base_uri": "https://localhost:8080/"
    },
    "id": "1vbGV31OtHHx",
    "outputId": "96844850-2513-4c40-b70a-1d9b67e51505"
   },
   "outputs": [
    {
     "data": {
      "text/plain": [
       "['ио', 'главное', 'тренер', 'вячеслав', 'буцай']"
      ]
     },
     "execution_count": 103,
     "metadata": {
      "tags": []
     },
     "output_type": "execute_result"
    }
   ],
   "source": [
    "news['title'].iloc[5][:5]"
   ]
  },
  {
   "cell_type": "code",
   "execution_count": 104,
   "metadata": {
    "colab": {
     "base_uri": "https://localhost:8080/"
    },
    "id": "NzIVpjbQsK_8",
    "outputId": "5c12802f-888b-4e14-b8f5-967101300262"
   },
   "outputs": [
    {
     "data": {
      "text/plain": [
       "[(3, 0.27872807),\n",
       " (7, 0.0696469),\n",
       " (12, 0.19843154),\n",
       " (13, 0.370266),\n",
       " (14, 0.06209411)]"
      ]
     },
     "execution_count": 104,
     "metadata": {
      "tags": []
     },
     "output_type": "execute_result"
    }
   ],
   "source": [
    "lda[common_dictionary.doc2bow(news['title'].iloc[10])]"
   ]
  },
  {
   "cell_type": "markdown",
   "metadata": {
    "id": "ZqB953kTMIG0"
   },
   "source": [
    "Давайте напишем функцию, которая будет нам возвращать векторное представление новости"
   ]
  },
  {
   "cell_type": "code",
   "execution_count": 105,
   "metadata": {
    "id": "dKAc5hiVMIG1"
   },
   "outputs": [],
   "source": [
    "#text = news['title'].iloc[0]\n",
    "\n",
    "def get_lda_vector(text):\n",
    "    unseen_doc = common_dictionary.doc2bow(text)\n",
    "    lda_tuple = lda[unseen_doc]\n",
    "    not_null_topics = dict(zip([i[0] for i in lda_tuple], [i[1] for i in lda_tuple]))\n",
    "\n",
    "    output_vector = []\n",
    "    for i in range(N_topic):\n",
    "        if i not in not_null_topics:\n",
    "            output_vector.append(0)\n",
    "        else:\n",
    "            output_vector.append(not_null_topics[i])\n",
    "    return np.array(output_vector)"
   ]
  },
  {
   "cell_type": "code",
   "execution_count": 106,
   "metadata": {
    "colab": {
     "base_uri": "https://localhost:8080/",
     "height": 194
    },
    "id": "QKc4AAI5MIG2",
    "outputId": "d0ad07dd-7b5d-4b77-fec6-c47952440c8f"
   },
   "outputs": [
    {
     "data": {
      "text/html": [
       "<div>\n",
       "<style scoped>\n",
       "    .dataframe tbody tr th:only-of-type {\n",
       "        vertical-align: middle;\n",
       "    }\n",
       "\n",
       "    .dataframe tbody tr th {\n",
       "        vertical-align: top;\n",
       "    }\n",
       "\n",
       "    .dataframe thead th {\n",
       "        text-align: right;\n",
       "    }\n",
       "</style>\n",
       "<table border=\"1\" class=\"dataframe\">\n",
       "  <thead>\n",
       "    <tr style=\"text-align: right;\">\n",
       "      <th></th>\n",
       "      <th>doc_id</th>\n",
       "      <th>topic_0</th>\n",
       "      <th>topic_1</th>\n",
       "      <th>topic_2</th>\n",
       "      <th>topic_3</th>\n",
       "      <th>topic_4</th>\n",
       "      <th>topic_5</th>\n",
       "      <th>topic_6</th>\n",
       "      <th>topic_7</th>\n",
       "      <th>topic_8</th>\n",
       "      <th>topic_9</th>\n",
       "      <th>topic_10</th>\n",
       "      <th>topic_11</th>\n",
       "      <th>topic_12</th>\n",
       "      <th>topic_13</th>\n",
       "      <th>topic_14</th>\n",
       "    </tr>\n",
       "  </thead>\n",
       "  <tbody>\n",
       "    <tr>\n",
       "      <th>0</th>\n",
       "      <td>6</td>\n",
       "      <td>0.078490</td>\n",
       "      <td>0.0</td>\n",
       "      <td>0.325296</td>\n",
       "      <td>0.021764</td>\n",
       "      <td>0.0</td>\n",
       "      <td>0.0</td>\n",
       "      <td>0.0</td>\n",
       "      <td>0.0</td>\n",
       "      <td>0.0</td>\n",
       "      <td>0.568287</td>\n",
       "      <td>0.000000</td>\n",
       "      <td>0.000000</td>\n",
       "      <td>0.000000</td>\n",
       "      <td>0.000000</td>\n",
       "      <td>0.000000</td>\n",
       "    </tr>\n",
       "    <tr>\n",
       "      <th>1</th>\n",
       "      <td>4896</td>\n",
       "      <td>0.000000</td>\n",
       "      <td>0.0</td>\n",
       "      <td>0.000000</td>\n",
       "      <td>0.621811</td>\n",
       "      <td>0.0</td>\n",
       "      <td>0.0</td>\n",
       "      <td>0.0</td>\n",
       "      <td>0.0</td>\n",
       "      <td>0.0</td>\n",
       "      <td>0.000000</td>\n",
       "      <td>0.107958</td>\n",
       "      <td>0.000000</td>\n",
       "      <td>0.000000</td>\n",
       "      <td>0.250718</td>\n",
       "      <td>0.000000</td>\n",
       "    </tr>\n",
       "    <tr>\n",
       "      <th>2</th>\n",
       "      <td>4897</td>\n",
       "      <td>0.000000</td>\n",
       "      <td>0.0</td>\n",
       "      <td>0.417976</td>\n",
       "      <td>0.000000</td>\n",
       "      <td>0.0</td>\n",
       "      <td>0.0</td>\n",
       "      <td>0.0</td>\n",
       "      <td>0.0</td>\n",
       "      <td>0.0</td>\n",
       "      <td>0.000000</td>\n",
       "      <td>0.000000</td>\n",
       "      <td>0.000000</td>\n",
       "      <td>0.000000</td>\n",
       "      <td>0.560886</td>\n",
       "      <td>0.000000</td>\n",
       "    </tr>\n",
       "    <tr>\n",
       "      <th>3</th>\n",
       "      <td>4898</td>\n",
       "      <td>0.000000</td>\n",
       "      <td>0.0</td>\n",
       "      <td>0.791572</td>\n",
       "      <td>0.000000</td>\n",
       "      <td>0.0</td>\n",
       "      <td>0.0</td>\n",
       "      <td>0.0</td>\n",
       "      <td>0.0</td>\n",
       "      <td>0.0</td>\n",
       "      <td>0.000000</td>\n",
       "      <td>0.000000</td>\n",
       "      <td>0.038488</td>\n",
       "      <td>0.000000</td>\n",
       "      <td>0.160417</td>\n",
       "      <td>0.000000</td>\n",
       "    </tr>\n",
       "    <tr>\n",
       "      <th>4</th>\n",
       "      <td>4899</td>\n",
       "      <td>0.435666</td>\n",
       "      <td>0.0</td>\n",
       "      <td>0.000000</td>\n",
       "      <td>0.000000</td>\n",
       "      <td>0.0</td>\n",
       "      <td>0.0</td>\n",
       "      <td>0.0</td>\n",
       "      <td>0.0</td>\n",
       "      <td>0.0</td>\n",
       "      <td>0.000000</td>\n",
       "      <td>0.000000</td>\n",
       "      <td>0.000000</td>\n",
       "      <td>0.121876</td>\n",
       "      <td>0.000000</td>\n",
       "      <td>0.420836</td>\n",
       "    </tr>\n",
       "  </tbody>\n",
       "</table>\n",
       "</div>"
      ],
      "text/plain": [
       "   doc_id   topic_0  topic_1   topic_2  ...  topic_11  topic_12  topic_13  topic_14\n",
       "0       6  0.078490      0.0  0.325296  ...  0.000000  0.000000  0.000000  0.000000\n",
       "1    4896  0.000000      0.0  0.000000  ...  0.000000  0.000000  0.250718  0.000000\n",
       "2    4897  0.000000      0.0  0.417976  ...  0.000000  0.000000  0.560886  0.000000\n",
       "3    4898  0.000000      0.0  0.791572  ...  0.038488  0.000000  0.160417  0.000000\n",
       "4    4899  0.435666      0.0  0.000000  ...  0.000000  0.121876  0.000000  0.420836\n",
       "\n",
       "[5 rows x 16 columns]"
      ]
     },
     "execution_count": 106,
     "metadata": {
      "tags": []
     },
     "output_type": "execute_result"
    }
   ],
   "source": [
    "topic_matrix = pd.DataFrame([get_lda_vector(text) for text in news['title'].values])\n",
    "topic_matrix.columns = ['topic_{}'.format(i) for i in range(N_topic)]\n",
    "topic_matrix['doc_id'] = news['doc_id'].values\n",
    "topic_matrix = topic_matrix[['doc_id']+['topic_{}'.format(i) for i in range(N_topic)]]\n",
    "topic_matrix.head(5)"
   ]
  },
  {
   "cell_type": "code",
   "execution_count": 107,
   "metadata": {
    "colab": {
     "base_uri": "https://localhost:8080/",
     "height": 194
    },
    "id": "EHZFcqJKo0D8",
    "outputId": "e6d471e3-7f12-43cc-a29f-c77bdddbde3e"
   },
   "outputs": [
    {
     "data": {
      "text/html": [
       "<div>\n",
       "<style scoped>\n",
       "    .dataframe tbody tr th:only-of-type {\n",
       "        vertical-align: middle;\n",
       "    }\n",
       "\n",
       "    .dataframe tbody tr th {\n",
       "        vertical-align: top;\n",
       "    }\n",
       "\n",
       "    .dataframe thead th {\n",
       "        text-align: right;\n",
       "    }\n",
       "</style>\n",
       "<table border=\"1\" class=\"dataframe\">\n",
       "  <thead>\n",
       "    <tr style=\"text-align: right;\">\n",
       "      <th></th>\n",
       "      <th>doc_id</th>\n",
       "      <th>topic_0</th>\n",
       "      <th>topic_1</th>\n",
       "      <th>topic_2</th>\n",
       "      <th>topic_3</th>\n",
       "      <th>topic_4</th>\n",
       "      <th>topic_5</th>\n",
       "      <th>topic_6</th>\n",
       "      <th>topic_7</th>\n",
       "      <th>topic_8</th>\n",
       "      <th>topic_9</th>\n",
       "      <th>topic_10</th>\n",
       "      <th>topic_11</th>\n",
       "      <th>topic_12</th>\n",
       "      <th>topic_13</th>\n",
       "      <th>topic_14</th>\n",
       "    </tr>\n",
       "  </thead>\n",
       "  <tbody>\n",
       "    <tr>\n",
       "      <th>0</th>\n",
       "      <td>6</td>\n",
       "      <td>0.078490</td>\n",
       "      <td>0.0</td>\n",
       "      <td>0.325296</td>\n",
       "      <td>0.021764</td>\n",
       "      <td>0.0</td>\n",
       "      <td>0.0</td>\n",
       "      <td>0.0</td>\n",
       "      <td>0.0</td>\n",
       "      <td>0.0</td>\n",
       "      <td>0.568287</td>\n",
       "      <td>0.000000</td>\n",
       "      <td>0.000000</td>\n",
       "      <td>0.000000</td>\n",
       "      <td>0.000000</td>\n",
       "      <td>0.000000</td>\n",
       "    </tr>\n",
       "    <tr>\n",
       "      <th>1</th>\n",
       "      <td>4896</td>\n",
       "      <td>0.000000</td>\n",
       "      <td>0.0</td>\n",
       "      <td>0.000000</td>\n",
       "      <td>0.621811</td>\n",
       "      <td>0.0</td>\n",
       "      <td>0.0</td>\n",
       "      <td>0.0</td>\n",
       "      <td>0.0</td>\n",
       "      <td>0.0</td>\n",
       "      <td>0.000000</td>\n",
       "      <td>0.107958</td>\n",
       "      <td>0.000000</td>\n",
       "      <td>0.000000</td>\n",
       "      <td>0.250718</td>\n",
       "      <td>0.000000</td>\n",
       "    </tr>\n",
       "    <tr>\n",
       "      <th>2</th>\n",
       "      <td>4897</td>\n",
       "      <td>0.000000</td>\n",
       "      <td>0.0</td>\n",
       "      <td>0.417976</td>\n",
       "      <td>0.000000</td>\n",
       "      <td>0.0</td>\n",
       "      <td>0.0</td>\n",
       "      <td>0.0</td>\n",
       "      <td>0.0</td>\n",
       "      <td>0.0</td>\n",
       "      <td>0.000000</td>\n",
       "      <td>0.000000</td>\n",
       "      <td>0.000000</td>\n",
       "      <td>0.000000</td>\n",
       "      <td>0.560886</td>\n",
       "      <td>0.000000</td>\n",
       "    </tr>\n",
       "    <tr>\n",
       "      <th>3</th>\n",
       "      <td>4898</td>\n",
       "      <td>0.000000</td>\n",
       "      <td>0.0</td>\n",
       "      <td>0.791572</td>\n",
       "      <td>0.000000</td>\n",
       "      <td>0.0</td>\n",
       "      <td>0.0</td>\n",
       "      <td>0.0</td>\n",
       "      <td>0.0</td>\n",
       "      <td>0.0</td>\n",
       "      <td>0.000000</td>\n",
       "      <td>0.000000</td>\n",
       "      <td>0.038488</td>\n",
       "      <td>0.000000</td>\n",
       "      <td>0.160417</td>\n",
       "      <td>0.000000</td>\n",
       "    </tr>\n",
       "    <tr>\n",
       "      <th>4</th>\n",
       "      <td>4899</td>\n",
       "      <td>0.435666</td>\n",
       "      <td>0.0</td>\n",
       "      <td>0.000000</td>\n",
       "      <td>0.000000</td>\n",
       "      <td>0.0</td>\n",
       "      <td>0.0</td>\n",
       "      <td>0.0</td>\n",
       "      <td>0.0</td>\n",
       "      <td>0.0</td>\n",
       "      <td>0.000000</td>\n",
       "      <td>0.000000</td>\n",
       "      <td>0.000000</td>\n",
       "      <td>0.121876</td>\n",
       "      <td>0.000000</td>\n",
       "      <td>0.420836</td>\n",
       "    </tr>\n",
       "  </tbody>\n",
       "</table>\n",
       "</div>"
      ],
      "text/plain": [
       "   doc_id   topic_0  topic_1   topic_2  ...  topic_11  topic_12  topic_13  topic_14\n",
       "0       6  0.078490      0.0  0.325296  ...  0.000000  0.000000  0.000000  0.000000\n",
       "1    4896  0.000000      0.0  0.000000  ...  0.000000  0.000000  0.250718  0.000000\n",
       "2    4897  0.000000      0.0  0.417976  ...  0.000000  0.000000  0.560886  0.000000\n",
       "3    4898  0.000000      0.0  0.791572  ...  0.038488  0.000000  0.160417  0.000000\n",
       "4    4899  0.435666      0.0  0.000000  ...  0.000000  0.121876  0.000000  0.420836\n",
       "\n",
       "[5 rows x 16 columns]"
      ]
     },
     "execution_count": 107,
     "metadata": {
      "tags": []
     },
     "output_type": "execute_result"
    }
   ],
   "source": [
    "topic_matrix.head()"
   ]
  },
  {
   "cell_type": "markdown",
   "metadata": {
    "id": "MbQgZQ3MMIG2"
   },
   "source": [
    "Прекрасно, мы получили вектора наших новостей! И даже умеем интерпретировать получившиеся темы.\n",
    "\n",
    "Можно двигаться далее"
   ]
  },
  {
   "cell_type": "markdown",
   "metadata": {
    "id": "z0JACLjHMIG3"
   },
   "source": [
    "### Следующий шаг - векторные представления пользователей"
   ]
  },
  {
   "cell_type": "code",
   "execution_count": 108,
   "metadata": {
    "colab": {
     "base_uri": "https://localhost:8080/",
     "height": 340
    },
    "id": "7IcoyDauMIG3",
    "outputId": "2e7e4b53-fdce-414d-cd32-bd8ae6e866e6",
    "scrolled": true
   },
   "outputs": [
    {
     "data": {
      "text/html": [
       "<div>\n",
       "<style scoped>\n",
       "    .dataframe tbody tr th:only-of-type {\n",
       "        vertical-align: middle;\n",
       "    }\n",
       "\n",
       "    .dataframe tbody tr th {\n",
       "        vertical-align: top;\n",
       "    }\n",
       "\n",
       "    .dataframe thead th {\n",
       "        text-align: right;\n",
       "    }\n",
       "</style>\n",
       "<table border=\"1\" class=\"dataframe\">\n",
       "  <thead>\n",
       "    <tr style=\"text-align: right;\">\n",
       "      <th></th>\n",
       "      <th>uid</th>\n",
       "      <th>articles</th>\n",
       "    </tr>\n",
       "  </thead>\n",
       "  <tbody>\n",
       "    <tr>\n",
       "      <th>0</th>\n",
       "      <td>u105138</td>\n",
       "      <td>[293672, 293328, 293001, 293622, 293126, 1852]</td>\n",
       "    </tr>\n",
       "    <tr>\n",
       "      <th>1</th>\n",
       "      <td>u108690</td>\n",
       "      <td>[3405, 1739, 2972, 1158, 1599, 322665]</td>\n",
       "    </tr>\n",
       "    <tr>\n",
       "      <th>2</th>\n",
       "      <td>u108339</td>\n",
       "      <td>[1845, 2009, 2356, 1424, 2939, 323389]</td>\n",
       "    </tr>\n",
       "    <tr>\n",
       "      <th>3</th>\n",
       "      <td>u101138</td>\n",
       "      <td>[5933, 6186, 5055, 6977, 5206, 488389]</td>\n",
       "    </tr>\n",
       "    <tr>\n",
       "      <th>4</th>\n",
       "      <td>u108248</td>\n",
       "      <td>[707, 1144, 2532, 2928, 3133, 324592]</td>\n",
       "    </tr>\n",
       "    <tr>\n",
       "      <th>5</th>\n",
       "      <td>u106662</td>\n",
       "      <td>[323868, 323426, 324267, 322426, 324104, 1550]</td>\n",
       "    </tr>\n",
       "    <tr>\n",
       "      <th>6</th>\n",
       "      <td>u105949</td>\n",
       "      <td>[293138, 294471, 295012, 294736, 293949, 3544]</td>\n",
       "    </tr>\n",
       "    <tr>\n",
       "      <th>7</th>\n",
       "      <td>u102457</td>\n",
       "      <td>[6928, 5009, 6940, 7629, 7644, 512736]</td>\n",
       "    </tr>\n",
       "    <tr>\n",
       "      <th>8</th>\n",
       "      <td>u104124</td>\n",
       "      <td>[322838, 324699, 322991, 322120, 324327, 472331]</td>\n",
       "    </tr>\n",
       "    <tr>\n",
       "      <th>9</th>\n",
       "      <td>u101386</td>\n",
       "      <td>[7827, 6427, 7394, 7151, 6335, 487254]</td>\n",
       "    </tr>\n",
       "  </tbody>\n",
       "</table>\n",
       "</div>"
      ],
      "text/plain": [
       "       uid                                          articles\n",
       "0  u105138    [293672, 293328, 293001, 293622, 293126, 1852]\n",
       "1  u108690            [3405, 1739, 2972, 1158, 1599, 322665]\n",
       "2  u108339            [1845, 2009, 2356, 1424, 2939, 323389]\n",
       "3  u101138            [5933, 6186, 5055, 6977, 5206, 488389]\n",
       "4  u108248             [707, 1144, 2532, 2928, 3133, 324592]\n",
       "5  u106662    [323868, 323426, 324267, 322426, 324104, 1550]\n",
       "6  u105949    [293138, 294471, 295012, 294736, 293949, 3544]\n",
       "7  u102457            [6928, 5009, 6940, 7629, 7644, 512736]\n",
       "8  u104124  [322838, 324699, 322991, 322120, 324327, 472331]\n",
       "9  u101386            [7827, 6427, 7394, 7151, 6335, 487254]"
      ]
     },
     "execution_count": 108,
     "metadata": {
      "tags": []
     },
     "output_type": "execute_result"
    }
   ],
   "source": [
    "users.head(10)"
   ]
  },
  {
   "cell_type": "code",
   "execution_count": 109,
   "metadata": {
    "id": "U2pcSIBDMIG4"
   },
   "outputs": [],
   "source": [
    "doc_dict = dict(zip(topic_matrix['doc_id'].values, topic_matrix[['topic_{}'.format(i) for i in range(N_topic)]].values))"
   ]
  },
  {
   "cell_type": "code",
   "execution_count": 110,
   "metadata": {
    "colab": {
     "base_uri": "https://localhost:8080/"
    },
    "id": "Yp8Sw5CyaleS",
    "outputId": "2bfc9afd-faff-4acb-c254-71a0c35bdc95"
   },
   "outputs": [
    {
     "data": {
      "text/plain": [
       "array([0.        , 0.12293371, 0.        , 0.        , 0.        ,\n",
       "       0.18943496, 0.        , 0.33921486, 0.        , 0.        ,\n",
       "       0.        , 0.        , 0.1422648 , 0.18392938, 0.        ])"
      ]
     },
     "execution_count": 110,
     "metadata": {
      "tags": []
     },
     "output_type": "execute_result"
    }
   ],
   "source": [
    "doc_dict[7827]"
   ]
  },
  {
   "cell_type": "code",
   "execution_count": 111,
   "metadata": {
    "colab": {
     "base_uri": "https://localhost:8080/"
    },
    "id": "wG7wI5TfMIG4",
    "outputId": "853d65aa-11e0-4959-c047-e8088e70d558"
   },
   "outputs": [
    {
     "data": {
      "text/plain": [
       "array([0.        , 0.        , 0.02547139, 0.05002016, 0.13940737,\n",
       "       0.09058242, 0.03762132, 0.        , 0.33596784, 0.05411822,\n",
       "       0.        , 0.0382651 , 0.15547448, 0.01300482, 0.0571995 ])"
      ]
     },
     "execution_count": 111,
     "metadata": {
      "tags": []
     },
     "output_type": "execute_result"
    }
   ],
   "source": [
    "doc_dict[293622]"
   ]
  },
  {
   "cell_type": "code",
   "execution_count": 158,
   "metadata": {
    "id": "6ssOp3RkMIG5"
   },
   "outputs": [],
   "source": [
    "user_articles_list = users['articles'].iloc[33]\n",
    "\n",
    "def get_user_embedding(user_articles_list):\n",
    "    user_articles_list = eval(user_articles_list)\n",
    "    user_vector = np.array([doc_dict[doc_id] for doc_id in user_articles_list])\n",
    "    # print(user_vector)\n",
    "    user_vector1 = np.max(user_vector, 0)\n",
    "    return user_vector1 #,user_vector"
   ]
  },
  {
   "cell_type": "code",
   "execution_count": 159,
   "metadata": {
    "colab": {
     "base_uri": "https://localhost:8080/"
    },
    "id": "HvNO2xf-ZLur",
    "outputId": "b8189a2a-9391-4898-bd9f-de6ff8921637"
   },
   "outputs": [
    {
     "data": {
      "text/plain": [
       "array([[0.        , 0.12293371, 0.        , 0.        , 0.        ,\n",
       "        0.18943496, 0.        , 0.33921486, 0.        , 0.        ,\n",
       "        0.        , 0.        , 0.1422648 , 0.18392938, 0.        ],\n",
       "       [0.        , 0.        , 0.        , 0.        , 0.        ,\n",
       "        0.        , 0.        , 0.        , 0.        , 0.        ,\n",
       "        0.        , 0.        , 0.118258  , 0.84964317, 0.        ],\n",
       "       [0.        , 0.        , 0.09505402, 0.02730128, 0.        ,\n",
       "        0.        , 0.        , 0.        , 0.13052936, 0.        ,\n",
       "        0.        , 0.        , 0.49192712, 0.24158272, 0.        ],\n",
       "       [0.02707698, 0.        , 0.72984844, 0.        , 0.02854093,\n",
       "        0.        , 0.02728704, 0.        , 0.        , 0.0511626 ,\n",
       "        0.        , 0.        , 0.        , 0.13047652, 0.        ],\n",
       "       [0.        , 0.        , 0.35484037, 0.02825421, 0.        ,\n",
       "        0.        , 0.        , 0.        , 0.        , 0.        ,\n",
       "        0.        , 0.03862098, 0.5639053 , 0.        , 0.        ],\n",
       "       [0.01115675, 0.02700414, 0.27168438, 0.21656369, 0.        ,\n",
       "        0.12737633, 0.        , 0.        , 0.04521708, 0.        ,\n",
       "        0.02515191, 0.04520042, 0.02231601, 0.01880769, 0.16271548]])"
      ]
     },
     "execution_count": 159,
     "metadata": {
      "tags": []
     },
     "output_type": "execute_result"
    }
   ],
   "source": [
    "a = (7827, 6427, 7394, 7151, 6335, 487254)\n",
    "user_vector = np.array([doc_dict[doc_id] for doc_id in a])\n",
    "user_vector"
   ]
  },
  {
   "cell_type": "code",
   "execution_count": 160,
   "metadata": {
    "colab": {
     "base_uri": "https://localhost:8080/",
     "height": 36
    },
    "id": "UKfTfcyKMDLq",
    "outputId": "ce954aa5-c8f9-448e-8c48-713b5e7aa14b"
   },
   "outputs": [
    {
     "data": {
      "application/vnd.google.colaboratory.intrinsic+json": {
       "type": "string"
      },
      "text/plain": [
       "'[7827, 6427, 7394, 7151, 6335, 487254]'"
      ]
     },
     "execution_count": 160,
     "metadata": {
      "tags": []
     },
     "output_type": "execute_result"
    }
   ],
   "source": [
    "user_articles_list = users['articles'].iloc[9]\n",
    "user_articles_list"
   ]
  },
  {
   "cell_type": "code",
   "execution_count": 161,
   "metadata": {
    "id": "kn0IxR3vMIG5"
   },
   "outputs": [],
   "source": [
    "V = get_user_embedding(user_articles_list)"
   ]
  },
  {
   "cell_type": "code",
   "execution_count": 162,
   "metadata": {
    "colab": {
     "base_uri": "https://localhost:8080/"
    },
    "id": "gosF3QgEpsL1",
    "outputId": "2318d02c-0494-45cb-b006-6f4aff3ea86d"
   },
   "outputs": [
    {
     "data": {
      "text/plain": [
       "array([0.02707698, 0.12293371, 0.72984844, 0.21656369, 0.02854093,\n",
       "       0.18943496, 0.02728704, 0.33921486, 0.13052936, 0.0511626 ,\n",
       "       0.02515191, 0.04520042, 0.5639053 , 0.84964317, 0.16271548])"
      ]
     },
     "execution_count": 162,
     "metadata": {
      "tags": []
     },
     "output_type": "execute_result"
    }
   ],
   "source": [
    "V"
   ]
  },
  {
   "cell_type": "code",
   "execution_count": 163,
   "metadata": {
    "id": "vw-UHq1PLiD6"
   },
   "outputs": [],
   "source": [
    "import matplotlib.pyplot as plt"
   ]
  },
  {
   "cell_type": "markdown",
   "metadata": {
    "id": "bbJ6STRBMIG6"
   },
   "source": [
    "Интересовался новостями с топиками topic_3, topic_14 (что-то про политику и государство)"
   ]
  },
  {
   "cell_type": "code",
   "execution_count": 164,
   "metadata": {
    "id": "3UPXZgsVMIG6"
   },
   "outputs": [],
   "source": [
    "#users['articles'].iloc[33]"
   ]
  },
  {
   "cell_type": "code",
   "execution_count": 165,
   "metadata": {
    "id": "bDJCMtAFMIG7",
    "scrolled": true
   },
   "outputs": [],
   "source": [
    "#\" \".join(news[news['doc_id']==323186]['title'].iloc[0])"
   ]
  },
  {
   "cell_type": "markdown",
   "metadata": {
    "id": "tk9q6qrVMIG7"
   },
   "source": [
    "Теперь получим эмбединги для всех пользователей и проверим их качество на конкретной downstream-задаче"
   ]
  },
  {
   "cell_type": "code",
   "execution_count": 166,
   "metadata": {
    "colab": {
     "base_uri": "https://localhost:8080/",
     "height": 135
    },
    "id": "2gJ71BPbMIG8",
    "outputId": "81d49f1d-5b47-4f6a-ef5e-0dcbdfdd06a9"
   },
   "outputs": [
    {
     "data": {
      "text/html": [
       "<div>\n",
       "<style scoped>\n",
       "    .dataframe tbody tr th:only-of-type {\n",
       "        vertical-align: middle;\n",
       "    }\n",
       "\n",
       "    .dataframe tbody tr th {\n",
       "        vertical-align: top;\n",
       "    }\n",
       "\n",
       "    .dataframe thead th {\n",
       "        text-align: right;\n",
       "    }\n",
       "</style>\n",
       "<table border=\"1\" class=\"dataframe\">\n",
       "  <thead>\n",
       "    <tr style=\"text-align: right;\">\n",
       "      <th></th>\n",
       "      <th>uid</th>\n",
       "      <th>topic_0</th>\n",
       "      <th>topic_1</th>\n",
       "      <th>topic_2</th>\n",
       "      <th>topic_3</th>\n",
       "      <th>topic_4</th>\n",
       "      <th>topic_5</th>\n",
       "      <th>topic_6</th>\n",
       "      <th>topic_7</th>\n",
       "      <th>topic_8</th>\n",
       "      <th>topic_9</th>\n",
       "      <th>topic_10</th>\n",
       "      <th>topic_11</th>\n",
       "      <th>topic_12</th>\n",
       "      <th>topic_13</th>\n",
       "      <th>topic_14</th>\n",
       "    </tr>\n",
       "  </thead>\n",
       "  <tbody>\n",
       "    <tr>\n",
       "      <th>0</th>\n",
       "      <td>u105138</td>\n",
       "      <td>0.036234</td>\n",
       "      <td>0.235377</td>\n",
       "      <td>0.098920</td>\n",
       "      <td>0.097804</td>\n",
       "      <td>0.139407</td>\n",
       "      <td>0.166604</td>\n",
       "      <td>0.118887</td>\n",
       "      <td>0.090773</td>\n",
       "      <td>0.441642</td>\n",
       "      <td>0.322214</td>\n",
       "      <td>0.324816</td>\n",
       "      <td>0.207689</td>\n",
       "      <td>0.648921</td>\n",
       "      <td>0.013005</td>\n",
       "      <td>0.291818</td>\n",
       "    </tr>\n",
       "    <tr>\n",
       "      <th>1</th>\n",
       "      <td>u108690</td>\n",
       "      <td>0.402929</td>\n",
       "      <td>0.091620</td>\n",
       "      <td>0.383271</td>\n",
       "      <td>0.038962</td>\n",
       "      <td>0.047805</td>\n",
       "      <td>0.196943</td>\n",
       "      <td>0.239792</td>\n",
       "      <td>0.137331</td>\n",
       "      <td>0.063269</td>\n",
       "      <td>0.411460</td>\n",
       "      <td>0.188564</td>\n",
       "      <td>0.076223</td>\n",
       "      <td>0.013794</td>\n",
       "      <td>0.017603</td>\n",
       "      <td>0.117783</td>\n",
       "    </tr>\n",
       "    <tr>\n",
       "      <th>2</th>\n",
       "      <td>u108339</td>\n",
       "      <td>0.267482</td>\n",
       "      <td>0.157688</td>\n",
       "      <td>0.105237</td>\n",
       "      <td>0.123147</td>\n",
       "      <td>0.011537</td>\n",
       "      <td>0.062095</td>\n",
       "      <td>0.136832</td>\n",
       "      <td>0.028852</td>\n",
       "      <td>0.229609</td>\n",
       "      <td>0.436849</td>\n",
       "      <td>0.278594</td>\n",
       "      <td>0.116531</td>\n",
       "      <td>0.200469</td>\n",
       "      <td>0.014339</td>\n",
       "      <td>0.270205</td>\n",
       "    </tr>\n",
       "  </tbody>\n",
       "</table>\n",
       "</div>"
      ],
      "text/plain": [
       "       uid   topic_0   topic_1  ...  topic_12  topic_13  topic_14\n",
       "0  u105138  0.036234  0.235377  ...  0.648921  0.013005  0.291818\n",
       "1  u108690  0.402929  0.091620  ...  0.013794  0.017603  0.117783\n",
       "2  u108339  0.267482  0.157688  ...  0.200469  0.014339  0.270205\n",
       "\n",
       "[3 rows x 16 columns]"
      ]
     },
     "execution_count": 166,
     "metadata": {
      "tags": []
     },
     "output_type": "execute_result"
    }
   ],
   "source": [
    "user_embeddings = pd.DataFrame([i for i in users['articles'].apply(lambda x: get_user_embedding(x), 1)])\n",
    "user_embeddings.columns = ['topic_{}'.format(i) for i in range(N_topic)]\n",
    "user_embeddings['uid'] = users['uid'].values\n",
    "user_embeddings = user_embeddings[['uid']+['topic_{}'.format(i) for i in range(N_topic)]]\n",
    "user_embeddings.head(3)"
   ]
  },
  {
   "cell_type": "markdown",
   "metadata": {
    "id": "dZNF_ZXSMIG8"
   },
   "source": [
    "Датасет готов - можно попробовать обучить модель. Загрузим нашу разметку"
   ]
  },
  {
   "cell_type": "code",
   "execution_count": 167,
   "metadata": {
    "colab": {
     "base_uri": "https://localhost:8080/",
     "height": 194
    },
    "id": "L2mVHGMPMIG9",
    "outputId": "49a56300-60ac-4e75-8070-55d76ab034d9"
   },
   "outputs": [
    {
     "data": {
      "text/html": [
       "<div>\n",
       "<style scoped>\n",
       "    .dataframe tbody tr th:only-of-type {\n",
       "        vertical-align: middle;\n",
       "    }\n",
       "\n",
       "    .dataframe tbody tr th {\n",
       "        vertical-align: top;\n",
       "    }\n",
       "\n",
       "    .dataframe thead th {\n",
       "        text-align: right;\n",
       "    }\n",
       "</style>\n",
       "<table border=\"1\" class=\"dataframe\">\n",
       "  <thead>\n",
       "    <tr style=\"text-align: right;\">\n",
       "      <th></th>\n",
       "      <th>uid</th>\n",
       "      <th>churn</th>\n",
       "    </tr>\n",
       "  </thead>\n",
       "  <tbody>\n",
       "    <tr>\n",
       "      <th>0</th>\n",
       "      <td>u107120</td>\n",
       "      <td>0</td>\n",
       "    </tr>\n",
       "    <tr>\n",
       "      <th>1</th>\n",
       "      <td>u102277</td>\n",
       "      <td>0</td>\n",
       "    </tr>\n",
       "    <tr>\n",
       "      <th>2</th>\n",
       "      <td>u102444</td>\n",
       "      <td>0</td>\n",
       "    </tr>\n",
       "    <tr>\n",
       "      <th>3</th>\n",
       "      <td>u103439</td>\n",
       "      <td>0</td>\n",
       "    </tr>\n",
       "    <tr>\n",
       "      <th>4</th>\n",
       "      <td>u104300</td>\n",
       "      <td>0</td>\n",
       "    </tr>\n",
       "  </tbody>\n",
       "</table>\n",
       "</div>"
      ],
      "text/plain": [
       "       uid  churn\n",
       "0  u107120      0\n",
       "1  u102277      0\n",
       "2  u102444      0\n",
       "3  u103439      0\n",
       "4  u104300      0"
      ]
     },
     "execution_count": 167,
     "metadata": {
      "tags": []
     },
     "output_type": "execute_result"
    }
   ],
   "source": [
    "target = pd.read_csv(\"/content/users_churn.csv\")\n",
    "target.head()"
   ]
  },
  {
   "cell_type": "code",
   "execution_count": 168,
   "metadata": {
    "colab": {
     "base_uri": "https://localhost:8080/",
     "height": 135
    },
    "id": "qXzy3pA2MIG9",
    "outputId": "e3b73832-be8b-45c4-c821-d1f4adb33187"
   },
   "outputs": [
    {
     "data": {
      "text/html": [
       "<div>\n",
       "<style scoped>\n",
       "    .dataframe tbody tr th:only-of-type {\n",
       "        vertical-align: middle;\n",
       "    }\n",
       "\n",
       "    .dataframe tbody tr th {\n",
       "        vertical-align: top;\n",
       "    }\n",
       "\n",
       "    .dataframe thead th {\n",
       "        text-align: right;\n",
       "    }\n",
       "</style>\n",
       "<table border=\"1\" class=\"dataframe\">\n",
       "  <thead>\n",
       "    <tr style=\"text-align: right;\">\n",
       "      <th></th>\n",
       "      <th>uid</th>\n",
       "      <th>topic_0</th>\n",
       "      <th>topic_1</th>\n",
       "      <th>topic_2</th>\n",
       "      <th>topic_3</th>\n",
       "      <th>topic_4</th>\n",
       "      <th>topic_5</th>\n",
       "      <th>topic_6</th>\n",
       "      <th>topic_7</th>\n",
       "      <th>topic_8</th>\n",
       "      <th>topic_9</th>\n",
       "      <th>topic_10</th>\n",
       "      <th>topic_11</th>\n",
       "      <th>topic_12</th>\n",
       "      <th>topic_13</th>\n",
       "      <th>topic_14</th>\n",
       "      <th>churn</th>\n",
       "    </tr>\n",
       "  </thead>\n",
       "  <tbody>\n",
       "    <tr>\n",
       "      <th>0</th>\n",
       "      <td>u105138</td>\n",
       "      <td>0.036234</td>\n",
       "      <td>0.235377</td>\n",
       "      <td>0.098920</td>\n",
       "      <td>0.097804</td>\n",
       "      <td>0.139407</td>\n",
       "      <td>0.166604</td>\n",
       "      <td>0.118887</td>\n",
       "      <td>0.090773</td>\n",
       "      <td>0.441642</td>\n",
       "      <td>0.322214</td>\n",
       "      <td>0.324816</td>\n",
       "      <td>0.207689</td>\n",
       "      <td>0.648921</td>\n",
       "      <td>0.013005</td>\n",
       "      <td>0.291818</td>\n",
       "      <td>0</td>\n",
       "    </tr>\n",
       "    <tr>\n",
       "      <th>1</th>\n",
       "      <td>u108690</td>\n",
       "      <td>0.402929</td>\n",
       "      <td>0.091620</td>\n",
       "      <td>0.383271</td>\n",
       "      <td>0.038962</td>\n",
       "      <td>0.047805</td>\n",
       "      <td>0.196943</td>\n",
       "      <td>0.239792</td>\n",
       "      <td>0.137331</td>\n",
       "      <td>0.063269</td>\n",
       "      <td>0.411460</td>\n",
       "      <td>0.188564</td>\n",
       "      <td>0.076223</td>\n",
       "      <td>0.013794</td>\n",
       "      <td>0.017603</td>\n",
       "      <td>0.117783</td>\n",
       "      <td>1</td>\n",
       "    </tr>\n",
       "    <tr>\n",
       "      <th>2</th>\n",
       "      <td>u108339</td>\n",
       "      <td>0.267482</td>\n",
       "      <td>0.157688</td>\n",
       "      <td>0.105237</td>\n",
       "      <td>0.123147</td>\n",
       "      <td>0.011537</td>\n",
       "      <td>0.062095</td>\n",
       "      <td>0.136832</td>\n",
       "      <td>0.028852</td>\n",
       "      <td>0.229609</td>\n",
       "      <td>0.436849</td>\n",
       "      <td>0.278594</td>\n",
       "      <td>0.116531</td>\n",
       "      <td>0.200469</td>\n",
       "      <td>0.014339</td>\n",
       "      <td>0.270205</td>\n",
       "      <td>1</td>\n",
       "    </tr>\n",
       "  </tbody>\n",
       "</table>\n",
       "</div>"
      ],
      "text/plain": [
       "       uid   topic_0   topic_1   topic_2  ...  topic_12  topic_13  topic_14  churn\n",
       "0  u105138  0.036234  0.235377  0.098920  ...  0.648921  0.013005  0.291818      0\n",
       "1  u108690  0.402929  0.091620  0.383271  ...  0.013794  0.017603  0.117783      1\n",
       "2  u108339  0.267482  0.157688  0.105237  ...  0.200469  0.014339  0.270205      1\n",
       "\n",
       "[3 rows x 17 columns]"
      ]
     },
     "execution_count": 168,
     "metadata": {
      "tags": []
     },
     "output_type": "execute_result"
    }
   ],
   "source": [
    "X = pd.merge(user_embeddings, target, 'left')\n",
    "X.head(3)"
   ]
  },
  {
   "cell_type": "code",
   "execution_count": 169,
   "metadata": {
    "id": "Un-dl_vDMIHM"
   },
   "outputs": [],
   "source": [
    "from sklearn.linear_model import LogisticRegression\n",
    "from sklearn.model_selection import train_test_split\n",
    "#import itertools\n",
    "\n",
    "import matplotlib.pyplot as plt\n",
    "\n",
    "%matplotlib inline"
   ]
  },
  {
   "cell_type": "code",
   "execution_count": 170,
   "metadata": {
    "id": "rzq-WEIJMIHO"
   },
   "outputs": [],
   "source": [
    "#разделим данные на train/test\n",
    "X_train, X_test, y_train, y_test = train_test_split(X[['topic_{}'.format(i) for i in range(N_topic)]], \n",
    "                                                    X['churn'], random_state=0)"
   ]
  },
  {
   "cell_type": "code",
   "execution_count": 171,
   "metadata": {
    "colab": {
     "base_uri": "https://localhost:8080/"
    },
    "id": "EBQsn00QMIHO",
    "outputId": "fdb0f381-397a-452c-9748-ef0191dce171"
   },
   "outputs": [
    {
     "data": {
      "text/plain": [
       "LogisticRegression(C=1.0, class_weight=None, dual=False, fit_intercept=True,\n",
       "                   intercept_scaling=1, l1_ratio=None, max_iter=100,\n",
       "                   multi_class='auto', n_jobs=None, penalty='l2',\n",
       "                   random_state=None, solver='lbfgs', tol=0.0001, verbose=0,\n",
       "                   warm_start=False)"
      ]
     },
     "execution_count": 171,
     "metadata": {
      "tags": []
     },
     "output_type": "execute_result"
    }
   ],
   "source": [
    "logreg = LogisticRegression()\n",
    "#обучим наш пайплайн\n",
    "logreg.fit(X_train, y_train)"
   ]
  },
  {
   "cell_type": "code",
   "execution_count": 172,
   "metadata": {
    "colab": {
     "base_uri": "https://localhost:8080/"
    },
    "id": "GqftFfoOMIHP",
    "outputId": "cad03f97-7121-448a-d377-4c7e8d954435"
   },
   "outputs": [
    {
     "data": {
      "text/plain": [
       "array([7.80545030e-02, 3.92211059e-04, 5.91779838e-01, 7.69005567e-01,\n",
       "       8.44712090e-02, 4.30110248e-02, 4.39687962e-02, 2.30658155e-03,\n",
       "       1.48877947e-02, 3.83017618e-01])"
      ]
     },
     "execution_count": 172,
     "metadata": {
      "tags": []
     },
     "output_type": "execute_result"
    }
   ],
   "source": [
    "#наши прогнозы для тестовой выборки\n",
    "preds = logreg.predict_proba(X_test)[:, 1]\n",
    "preds[:10]"
   ]
  },
  {
   "cell_type": "code",
   "execution_count": 173,
   "metadata": {
    "id": "nQKM7kKtMIHU"
   },
   "outputs": [],
   "source": [
    "from sklearn.metrics import f1_score, roc_auc_score, precision_score, classification_report, precision_recall_curve, confusion_matrix"
   ]
  },
  {
   "cell_type": "markdown",
   "metadata": {
    "id": "_X_oDrlNMIHV"
   },
   "source": [
    "### Рассчитаем Precision, Recall, F_score"
   ]
  },
  {
   "cell_type": "code",
   "execution_count": 174,
   "metadata": {
    "colab": {
     "base_uri": "https://localhost:8080/",
     "height": 295
    },
    "id": "vFnKI0lCQ91K",
    "outputId": "2a1f3b87-4f79-4978-8bdf-cdcc9db577a6"
   },
   "outputs": [
    {
     "data": {
      "image/png": "[encoded data removed]",
      "text/plain": [
       "<Figure size 432x288 with 1 Axes>"
      ]
     },
     "metadata": {
      "needs_background": "light",
      "tags": []
     },
     "output_type": "display_data"
    }
   ],
   "source": [
    "\n",
    "plt.plot( preds[:100], label = 'predict')\n",
    "plt.plot(y_test.values[:100], label = 'true')\n",
    "plt.title('ответ модели')\n",
    "plt.xlabel(' № примера')\n",
    "plt.ylabel(' выход')\n",
    "plt.legend()\n",
    "plt.grid('On')\n",
    "plt.show()"
   ]
  },
  {
   "cell_type": "code",
   "execution_count": 175,
   "metadata": {
    "colab": {
     "base_uri": "https://localhost:8080/"
    },
    "id": "J04r8edvMIHV",
    "outputId": "47be09e5-8b7e-479f-ec98-c3042d627bc1"
   },
   "outputs": [
    {
     "name": "stdout",
     "output_type": "stream",
     "text": [
      "Best Threshold=0.371115, F-Score=0.665, Precision=0.701, Recall=0.633\n"
     ]
    }
   ],
   "source": [
    "precision, recall, thresholds = precision_recall_curve(y_test.values, preds)\n",
    "fscore = (2 * precision * recall) / (precision + recall)\n",
    "# locate the index of the largest f score\n",
    "ix = np.argmax(fscore)\n",
    "print('Best Threshold=%f, F-Score=%.3f, Precision=%.3f, Recall=%.3f' % (thresholds[ix], \n",
    "                                                                        fscore[ix],\n",
    "                                                                        precision[ix],\n",
    "                                                                        recall[ix]))"
   ]
  },
  {
   "cell_type": "code",
   "execution_count": 176,
   "metadata": {
    "colab": {
     "base_uri": "https://localhost:8080/",
     "height": 295
    },
    "id": "OpIn4_MkQk-h",
    "outputId": "b8958f58-22d2-4308-a558-4e65359d06aa"
   },
   "outputs": [
    {
     "data": {
      "image/png": "[encoded data removed]",
      "text/plain": [
       "<Figure size 432x288 with 1 Axes>"
      ]
     },
     "metadata": {
      "needs_background": "light",
      "tags": []
     },
     "output_type": "display_data"
    }
   ],
   "source": [
    "plt.plot(recall,precision )\n",
    "plt.title(' точность/полнота')\n",
    "plt.xlabel(' полнота')\n",
    "plt.ylabel(' точность')\n",
    "plt.grid('On')\n",
    "plt.show()"
   ]
  },
  {
   "cell_type": "code",
   "execution_count": 177,
   "metadata": {
    "id": "fGe9uvYRYsQf"
   },
   "outputs": [],
   "source": [
    "import itertools"
   ]
  },
  {
   "cell_type": "code",
   "execution_count": 178,
   "metadata": {
    "id": "Q-yiXb5qMIHW"
   },
   "outputs": [],
   "source": [
    "def plot_confusion_matrix(cm, classes,\n",
    "                          normalize=False,\n",
    "                          title='Confusion matrix',\n",
    "                          cmap=plt.cm.Blues):\n",
    "    \"\"\"\n",
    "    This function prints and plots the confusion matrix.\n",
    "    Normalization can be applied by setting `normalize=True`.\n",
    "    \"\"\"\n",
    "    plt.imshow(cm, interpolation='nearest', cmap=cmap)\n",
    "    plt.title(title)\n",
    "    plt.colorbar()\n",
    "    tick_marks = np.arange(len(classes))\n",
    "    plt.xticks(tick_marks, classes, rotation=45)\n",
    "    plt.yticks(tick_marks, classes)\n",
    "\n",
    "    if normalize:\n",
    "        cm = cm.astype('float') / cm.sum(axis=1)[:, np.newaxis]\n",
    "        print(\"Normalized confusion matrix\")\n",
    "    else:\n",
    "        print('Confusion matrix, without normalization')\n",
    "\n",
    "    print(cm)\n",
    "\n",
    "    thresh = cm.max() / 2.\n",
    "    for i, j in itertools.product(range(cm.shape[0]), range(cm.shape[1])):\n",
    "        plt.text(j, i, cm[i, j],\n",
    "                 horizontalalignment=\"center\",\n",
    "                 color=\"white\" if cm[i, j] > thresh else \"black\")\n",
    "\n",
    "    plt.tight_layout()\n",
    "    plt.ylabel('True label')\n",
    "    plt.xlabel('Predicted label')"
   ]
  },
  {
   "cell_type": "code",
   "execution_count": 179,
   "metadata": {
    "colab": {
     "base_uri": "https://localhost:8080/",
     "height": 646
    },
    "id": "ALvrhVX3MIHW",
    "outputId": "bd2237b0-aa52-4a25-b906-eaf3233d6ccc"
   },
   "outputs": [
    {
     "name": "stdout",
     "output_type": "stream",
     "text": [
      "Confusion matrix, without normalization\n",
      "[[1689   66]\n",
      " [  91  154]]\n"
     ]
    },
    {
     "data": {
      "image/png": "[encoded data removed]",
      "text/plain": [
       "<Figure size 720x576 with 2 Axes>"
      ]
     },
     "metadata": {
      "needs_background": "light",
      "tags": []
     },
     "output_type": "display_data"
    }
   ],
   "source": [
    "#мы уже нашли ранее \"оптимальный\" порог, когда максимизировали f_score\n",
    "font = {'size' : 15}\n",
    "\n",
    "plt.rc('font', **font)\n",
    "\n",
    "cnf_matrix = confusion_matrix(y_test, preds>thresholds[ix])\n",
    "plt.figure(figsize=(10, 8))\n",
    "plot_confusion_matrix(cnf_matrix, classes=['Non-Churn', 'churn'],\n",
    "                      title='Confusion matrix')\n",
    "plt.savefig(\"conf_matrix.png\")\n",
    "plt.show()"
   ]
  },
  {
   "cell_type": "markdown",
   "metadata": {
    "id": "tNzGnaD-Okcj"
   },
   "source": [
    "Cо средним получилось правильно сработало 1631, неверно 68 и лишних определила модель 124    \n",
    "roc_auc_score 0.9394755509041224,F-Score=0.672, Precision=0.573, Recall=0.812  \n",
    "\n",
    "C медианой получилось лучше чем со средним True positive 1674, false negative 52, false positive 81  \n",
    "roc_auc_score 0.9597604511890226, F-Score=0.734, Precision=0.710, Recall=0.759  \n",
    "\n",
    "C max получилось лучше чем с медианой правильно 1681, неверно 62, лишних 74  \n",
    "roc_auc_score 0.9340147683004825, F-Score=0.665, Precision=0.701, Recall=0.633  "
   ]
  },
  {
   "cell_type": "markdown",
   "metadata": {
    "id": "4aFTar4LKZDW"
   },
   "source": []
  },
  {
   "cell_type": "code",
   "execution_count": 195,
   "metadata": {
    "colab": {
     "base_uri": "https://localhost:8080/",
     "height": 164
    },
    "id": "tMeIpAYCfvvF",
    "outputId": "a0f26b8d-5fe0-4d92-9bfb-d52edb52dd55"
   },
   "outputs": [
    {
     "data": {
      "text/html": [
       "<div>\n",
       "<style scoped>\n",
       "    .dataframe tbody tr th:only-of-type {\n",
       "        vertical-align: middle;\n",
       "    }\n",
       "\n",
       "    .dataframe tbody tr th {\n",
       "        vertical-align: top;\n",
       "    }\n",
       "\n",
       "    .dataframe thead th {\n",
       "        text-align: right;\n",
       "    }\n",
       "</style>\n",
       "<table border=\"1\" class=\"dataframe\">\n",
       "  <thead>\n",
       "    <tr style=\"text-align: right;\">\n",
       "      <th></th>\n",
       "      <th>metric</th>\n",
       "      <th>mean</th>\n",
       "      <th>median</th>\n",
       "      <th>max</th>\n",
       "    </tr>\n",
       "  </thead>\n",
       "  <tbody>\n",
       "    <tr>\n",
       "      <th>0</th>\n",
       "      <td>,F-Score</td>\n",
       "      <td>0.672</td>\n",
       "      <td>0.734</td>\n",
       "      <td>0.665</td>\n",
       "    </tr>\n",
       "    <tr>\n",
       "      <th>1</th>\n",
       "      <td>Precision</td>\n",
       "      <td>0.573</td>\n",
       "      <td>0.710</td>\n",
       "      <td>0.701</td>\n",
       "    </tr>\n",
       "    <tr>\n",
       "      <th>2</th>\n",
       "      <td>Recall</td>\n",
       "      <td>0.812</td>\n",
       "      <td>0.759</td>\n",
       "      <td>0.633</td>\n",
       "    </tr>\n",
       "    <tr>\n",
       "      <th>3</th>\n",
       "      <td>Roc_Auc</td>\n",
       "      <td>0.939</td>\n",
       "      <td>0.959</td>\n",
       "      <td>0.934</td>\n",
       "    </tr>\n",
       "  </tbody>\n",
       "</table>\n",
       "</div>"
      ],
      "text/plain": [
       "      metric   mean  median    max\n",
       "0   ,F-Score  0.672   0.734  0.665\n",
       "1  Precision  0.573   0.710  0.701\n",
       "2     Recall  0.812   0.759  0.633\n",
       "3    Roc_Auc  0.939   0.959  0.934"
      ]
     },
     "execution_count": 195,
     "metadata": {
      "tags": []
     },
     "output_type": "execute_result"
    }
   ],
   "source": [
    "pd.DataFrame({'metric': [',F-Score', 'Precision', 'Recall', 'Roc_Auc'], 'mean': [0.672, 0.573, 0.812, 0.939], 'median': [0.734, 0.710,0.759, 0.959],\n",
    "                   'max': [0.665, 0.701, 0.633, 0.934]})\n"
   ]
  },
  {
   "cell_type": "code",
   "execution_count": 180,
   "metadata": {
    "colab": {
     "base_uri": "https://localhost:8080/"
    },
    "id": "vGLGf7iFMIHX",
    "outputId": "ec1d8f5a-47df-4aaf-9cc8-88fdacacc6a4"
   },
   "outputs": [
    {
     "data": {
      "text/plain": [
       "0.9340147683004825"
      ]
     },
     "execution_count": 180,
     "metadata": {
      "tags": []
     },
     "output_type": "execute_result"
    }
   ],
   "source": [
    "roc_auc_score(y_test, preds)"
   ]
  },
  {
   "cell_type": "markdown",
   "metadata": {
    "id": "qPeKWD9VMIHY"
   },
   "source": [
    "В целом мы видим, что получившиеся векторные представления содержат какой-то сигнал и позволяют решать нашу прикладную задачу. "
   ]
  },
  {
   "cell_type": "markdown",
   "metadata": {
    "id": "fbxpSNMMMIHY"
   },
   "source": [
    "### Домашнее задание"
   ]
  },
  {
   "cell_type": "markdown",
   "metadata": {
    "id": "1cxL4c0tMIHZ"
   },
   "source": [
    "1. Самостоятельно разобраться с тем, что такое tfidf (документация https://scikit-learn.org/stable/modules/generated/sklearn.feature_extraction.text.TfidfVectorizer.html и еще - https://scikit-learn.org/stable/modules/feature_extraction.html#text-feature-extraction)\n",
    "2. Модифицировать код функции get_user_embedding таким образом, чтобы считалось не среднее (как в примере np.mean), а медиана. Применить такое преобразование к данным, обучить модель прогнозирования оттока и посчитать метрики качества и сохранить их: roc auc, precision/recall/f_score (для 3 последних - подобрать оптимальный порог с помощью precision_recall_curve, как это делалось на уроке)\n",
    "3. Повторить п.2, но используя уже не медиану, а max\n",
    "4. (опциональное, если очень хочется) Воспользовавшись полученными знаниями из п.1, повторить пункт 2, но уже взвешивая новости по tfidf (подсказка: нужно получить веса-коэффициенты для каждого документа. Не все документы одинаково информативны и несут какой-то положительный сигнал). Подсказка 2 - нужен именно idf, как вес.\n",
    "5. Сформировать на выходе единую таблицу, сравнивающую качество 3 разных метода получения эмбедингов пользователей: mean, median, max, idf_mean по метрикам roc_auc, precision, recall, f_score\n",
    "6. Сделать самостоятельные выводы и предположения о том, почему тот или ной способ оказался эффективнее остальных"
   ]
  },
  {
   "cell_type": "markdown",
   "metadata": {
    "id": "knu4EuwkMIHZ"
   },
   "source": [
    "#### Ссылки"
   ]
  },
  {
   "cell_type": "markdown",
   "metadata": {
    "id": "_J8Raxx3MIHZ"
   },
   "source": [
    "1. http://www.machinelearning.ru/wiki/images/d/d5/Voron17survey-artm.pdf\n",
    "2. https://en.wikipedia.org/wiki/Latent_Dirichlet_allocation"
   ]
  },
  {
   "cell_type": "markdown",
   "metadata": {
    "id": "QfwYYD1qMIHa"
   },
   "source": [
    "#### Библиотеки, которые нужно установить:\n",
    "\n",
    "1. gensim\n",
    "2. razdel\n",
    "3. pymorphy2\n",
    "4. nltk"
   ]
  },
  {
   "cell_type": "code",
   "execution_count": 180,
   "metadata": {
    "id": "04kJ_-kyMIHa"
   },
   "outputs": [],
   "source": []
  }
 ],
 "metadata": {
  "colab": {
   "collapsed_sections": [
    "knu4EuwkMIHZ",
    "QfwYYD1qMIHa"
   ],
   "name": "webinar2_colab_practica_ipynb_ (2).ipynb",
   "provenance": [],
   "toc_visible": true
  },
  "kernelspec": {
   "display_name": "Python 3",
   "language": "python",
   "name": "python3"
  },
  "language_info": {
   "codemirror_mode": {
    "name": "ipython",
    "version": 3
   },
   "file_extension": ".py",
   "mimetype": "text/x-python",
   "name": "python",
   "nbconvert_exporter": "python",
   "pygments_lexer": "ipython3",
   "version": "3.7.9"
  }
 },
 "nbformat": 4,
 "nbformat_minor": 1
}
